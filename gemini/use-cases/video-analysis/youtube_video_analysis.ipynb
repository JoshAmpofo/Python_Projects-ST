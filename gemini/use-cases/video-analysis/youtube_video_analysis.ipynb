{
  "cells": [
    {
      "cell_type": "code",
      "execution_count": 17,
      "metadata": {
        "id": "ur8xi4C7S06n"
      },
      "outputs": [],
      "source": [
        "# Copyright 2024 Google LLC\n",
        "#\n",
        "# Licensed under the Apache License, Version 2.0 (the \"License\");\n",
        "# you may not use this file except in compliance with the License.\n",
        "# You may obtain a copy of the License at\n",
        "#\n",
        "#     https://www.apache.org/licenses/LICENSE-2.0\n",
        "#\n",
        "# Unless required by applicable law or agreed to in writing, software\n",
        "# distributed under the License is distributed on an \"AS IS\" BASIS,\n",
        "# WITHOUT WARRANTIES OR CONDITIONS OF ANY KIND, either express or implied.\n",
        "# See the License for the specific language governing permissions and\n",
        "# limitations under the License."
      ]
    },
    {
      "cell_type": "markdown",
      "metadata": {
        "id": "JAPoU8Sm5E6e"
      },
      "source": [
        "# YouTube Video Analysis with Gemini\n",
        "\n",
        "<table align=\"left\">\n",
        "  <td style=\"text-align: center\">\n",
        "    <a href=\"https://colab.research.google.com/github/GoogleCloudPlatform/generative-ai/blob/main/gemini/use-cases/video-analysis/youtube_video_analysis.ipynb\">\n",
        "      <img width=\"32px\" src=\"https://www.gstatic.com/pantheon/images/bigquery/welcome_page/colab-logo.svg\" alt=\"Google Colaboratory logo\"><br> Open in Colab\n",
        "    </a>\n",
        "  </td>\n",
        "  <td style=\"text-align: center\">\n",
        "    <a href=\"https://console.cloud.google.com/vertex-ai/colab/import/https:%2F%2Fraw.githubusercontent.com%2FGoogleCloudPlatform%2Fgenerative-ai%2Fmain%2Fgemini%2Fuse-cases%2Fvideo-analysis%2Fyoutube_video_analysis.ipynb\">\n",
        "      <img width=\"32px\" src=\"https://lh3.googleusercontent.com/JmcxdQi-qOpctIvWKgPtrzZdJJK-J3sWE1RsfjZNwshCFgE_9fULcNpuXYTilIR2hjwN\" alt=\"Google Cloud Colab Enterprise logo\"><br> Open in Colab Enterprise\n",
        "    </a>\n",
        "  </td>\n",
        "  <td style=\"text-align: center\">\n",
        "    <a href=\"https://console.cloud.google.com/vertex-ai/workbench/deploy-notebook?download_url=https://raw.githubusercontent.com/GoogleCloudPlatform/generative-ai/main/gemini/use-cases/video-analysis/youtube_video_analysis.ipynb\">\n",
        "      <img src=\"https://www.gstatic.com/images/branding/gcpiconscolors/vertexai/v1/32px.svg\" alt=\"Vertex AI logo\"><br> Open in Vertex AI Workbench\n",
        "    </a>\n",
        "  </td>\n",
        "  <td style=\"text-align: center\">\n",
        "    <a href=\"https://github.com/GoogleCloudPlatform/generative-ai/blob/main/gemini/use-cases/video-analysis/youtube_video_analysis.ipynb\">\n",
        "      <img width=\"32px\" src=\"https://www.svgrepo.com/download/217753/github.svg\" alt=\"GitHub logo\"><br> View on GitHub\n",
        "    </a>\n",
        "  </td>\n",
        "</table>\n",
        "\n",
        "<div style=\"clear: both;\"></div>\n",
        "\n",
        "<b>Share to:</b>\n",
        "\n",
        "<a href=\"https://www.linkedin.com/sharing/share-offsite/?url=https%3A//github.com/GoogleCloudPlatform/generative-ai/blob/main/gemini/use-cases/video-analysis/youtube_video_analysis.ipynb\" target=\"_blank\">\n",
        "  <img width=\"20px\" src=\"https://upload.wikimedia.org/wikipedia/commons/8/81/LinkedIn_icon.svg\" alt=\"LinkedIn logo\">\n",
        "</a>\n",
        "\n",
        "<a href=\"https://bsky.app/intent/compose?text=https%3A//github.com/GoogleCloudPlatform/generative-ai/blob/main/gemini/use-cases/video-analysis/youtube_video_analysis.ipynb\" target=\"_blank\">\n",
        "  <img width=\"20px\" src=\"https://upload.wikimedia.org/wikipedia/commons/7/7a/Bluesky_Logo.svg\" alt=\"Bluesky logo\">\n",
        "</a>\n",
        "\n",
        "<a href=\"https://twitter.com/intent/tweet?url=https%3A//github.com/GoogleCloudPlatform/generative-ai/blob/main/gemini/use-cases/video-analysis/youtube_video_analysis.ipynb\" target=\"_blank\">\n",
        "  <img width=\"20px\" src=\"https://upload.wikimedia.org/wikipedia/commons/5/5a/X_icon_2.svg\" alt=\"X logo\">\n",
        "</a>\n",
        "\n",
        "<a href=\"https://reddit.com/submit?url=https%3A//github.com/GoogleCloudPlatform/generative-ai/blob/main/gemini/use-cases/video-analysis/youtube_video_analysis.ipynb\" target=\"_blank\">\n",
        "  <img width=\"20px\" src=\"https://redditinc.com/hubfs/Reddit%20Inc/Brand/Reddit_Logo.png\" alt=\"Reddit logo\">\n",
        "</a>\n",
        "\n",
        "<a href=\"https://www.facebook.com/sharer/sharer.php?u=https%3A//github.com/GoogleCloudPlatform/generative-ai/blob/main/gemini/use-cases/video-analysis/youtube_video_analysis.ipynb\" target=\"_blank\">\n",
        "  <img width=\"20px\" src=\"https://upload.wikimedia.org/wikipedia/commons/5/51/Facebook_f_logo_%282019%29.svg\" alt=\"Facebook logo\">\n",
        "</a>            "
      ]
    },
    {
      "cell_type": "markdown",
      "metadata": {
        "id": "84f0f73a0f76"
      },
      "source": [
        "| | |\n",
        "|-|-|\n",
        "| Author(s) | [Alok Pattani](https://github.com/alokpattani/) |"
      ]
    },
    {
      "cell_type": "markdown",
      "metadata": {
        "id": "tvgnzT1CKxrO"
      },
      "source": [
        "## Overview\n",
        "\n",
        "In this notebook, you'll explore how to do direct analysis of publicly available [YouTube](https://www.youtube.com/) videos with Gemini.\n",
        "\n",
        "You will complete the following tasks:\n",
        "\n",
        "- Summarizing a single YouTube video using Gemini 2.0 Flash\n",
        "- Extracting a specific set of structured outputs from a longer YouTube video using Gemini 2.0 Pro and controlled generation\n",
        "- Creating insights from analyzing multiple YouTube videos together using asynchronous generation with Gemini"
      ]
    },
    {
      "cell_type": "markdown",
      "metadata": {
        "id": "61RBz8LLbxCR"
      },
      "source": [
        "## Get started"
      ]
    },
    {
      "cell_type": "markdown",
      "metadata": {
        "id": "No17Cw5hgx12"
      },
      "source": [
        "### Install Google Gen AI SDK and other required packages\n"
      ]
    },
    {
      "cell_type": "code",
      "execution_count": 1,
      "metadata": {
        "id": "tFy3H3aPgx12"
      },
      "outputs": [],
      "source": [
        "%pip install --upgrade --quiet google-genai itables"
      ]
    },
    {
      "cell_type": "markdown",
      "metadata": {
        "id": "R5Xep4W9lq-Z"
      },
      "source": [
        "### Restart runtime\n",
        "\n",
        "To use the newly installed packages in this Jupyter runtime, you must restart the runtime. You can do this by running the cell below, which restarts the current kernel.\n",
        "\n",
        "The restart might take a minute or longer. After it's restarted, continue to the next step."
      ]
    },
    {
      "cell_type": "code",
      "execution_count": 19,
      "metadata": {
        "id": "XRvKdaPDTznN",
        "outputId": "a88aeebe-f7bf-4e38-dd77-39102615fd80",
        "colab": {
          "base_uri": "https://localhost:8080/"
        }
      },
      "outputs": [
        {
          "output_type": "execute_result",
          "data": {
            "text/plain": [
              "{'status': 'ok', 'restart': True}"
            ]
          },
          "metadata": {},
          "execution_count": 19
        }
      ],
      "source": [
        "import IPython\n",
        "\n",
        "app = IPython.Application.instance()\n",
        "app.kernel.do_shutdown(True)"
      ]
    },
    {
      "cell_type": "markdown",
      "metadata": {
        "id": "SbmM4z7FOBpM"
      },
      "source": [
        "<div class=\"alert alert-block alert-warning\">\n",
        "<b>⚠️ The kernel is going to restart. Wait until it's finished before continuing to the next step. ⚠️</b>\n",
        "</div>\n"
      ]
    },
    {
      "cell_type": "markdown",
      "metadata": {
        "id": "dmWOrTJ3gx13"
      },
      "source": [
        "### Authenticate your notebook environment (Colab only)\n",
        "\n",
        "If you're running this notebook on Google Colab, run the cell below to authenticate your environment."
      ]
    },
    {
      "cell_type": "code",
      "execution_count": 2,
      "metadata": {
        "id": "NyKGtVQjgx13"
      },
      "outputs": [],
      "source": [
        "import sys\n",
        "\n",
        "if \"google.colab\" in sys.modules:\n",
        "    from google.colab import auth\n",
        "\n",
        "    auth.authenticate_user()"
      ]
    },
    {
      "cell_type": "markdown",
      "metadata": {
        "id": "DF4l8DTdWgPY"
      },
      "source": [
        "### Set Google Cloud project information and create client\n",
        "\n",
        "To get started using Vertex AI, you must have an existing Google Cloud project and [enable the Vertex AI API](https://console.cloud.google.com/flows/enableapi?apiid=aiplatform.googleapis.com).\n",
        "\n",
        "Learn more about [setting up a project and a development environment](https://cloud.google.com/vertex-ai/docs/start/cloud-environment)."
      ]
    },
    {
      "cell_type": "code",
      "execution_count": 12,
      "metadata": {
        "id": "Nqwi-5ufWp_B"
      },
      "outputs": [],
      "source": [
        "# Use the environment variable if the user doesn't provide Project ID.\n",
        "import os\n",
        "\n",
        "PROJECT_ID = \"gentle-current-461511-j5\"  # @param {type: \"string\", placeholder: \"[your-project-id]\", isTemplate: true}\n",
        "if not PROJECT_ID or PROJECT_ID == \"frencheaze\":\n",
        "    PROJECT_ID = str(os.environ.get(\"GOOGLE_CLOUD_PROJECT\"))\n",
        "\n",
        "LOCATION = os.environ.get(\"GOOGLE_CLOUD_REGION\", \"us-central1\")\n",
        "\n",
        "from google import genai\n",
        "\n",
        "client = genai.Client(vertexai=True, project=PROJECT_ID, location=LOCATION)"
      ]
    },
    {
      "cell_type": "markdown",
      "metadata": {
        "id": "EdvJRUWRNGHE"
      },
      "source": [
        "## Set up libraries, options, and models"
      ]
    },
    {
      "cell_type": "markdown",
      "metadata": {
        "id": "5303c05f7aa6"
      },
      "source": [
        "### Import libraries"
      ]
    },
    {
      "cell_type": "code",
      "execution_count": 4,
      "metadata": {
        "id": "6fc324893334"
      },
      "outputs": [],
      "source": [
        "import json\n",
        "\n",
        "from IPython.display import HTML, Markdown, display\n",
        "from google.genai.types import GenerateContentConfig, Part\n",
        "from itables import show\n",
        "import itables.options as itable_opts\n",
        "import pandas as pd\n",
        "from tenacity import retry, stop_after_attempt, wait_random_exponential"
      ]
    },
    {
      "cell_type": "markdown",
      "metadata": {
        "id": "f86c665a5d94"
      },
      "source": [
        "### Configure some notebook options"
      ]
    },
    {
      "cell_type": "code",
      "execution_count": 5,
      "metadata": {
        "id": "4730b9f09e1e"
      },
      "outputs": [],
      "source": [
        "# Configure some options related to interactive tables\n",
        "itable_opts.maxBytes = 1e9\n",
        "itable_opts.maxColumns = 50\n",
        "\n",
        "itable_opts.order = []\n",
        "itable_opts.column_filters = \"header\""
      ]
    },
    {
      "cell_type": "markdown",
      "metadata": {
        "id": "9d46fd0dfdf7"
      },
      "source": [
        "### Create a helper function"
      ]
    },
    {
      "cell_type": "code",
      "execution_count": 6,
      "metadata": {
        "id": "e9034b0991f4"
      },
      "outputs": [],
      "source": [
        "def display_youtube_video(url: str) -> None:\n",
        "    youtube_video_embed_url = url.replace(\"/watch?v=\", \"/embed/\")\n",
        "\n",
        "    # Create HTML code to directly embed video\n",
        "    youtube_video_embed_html_code = f\"\"\"\n",
        "    <iframe width=\"560\" height=\"315\" src=\"{youtube_video_embed_url}\"\n",
        "    title=\"YouTube video player\" frameborder=\"0\" allow=\"accelerometer; autoplay;\n",
        "    clipboard-write; encrypted-media; gyroscope; picture-in-picture\" allowfullscreen>\n",
        "    </iframe>\n",
        "    \"\"\"\n",
        "\n",
        "    # Display embedded YouTube video\n",
        "    display(HTML(youtube_video_embed_html_code))"
      ]
    },
    {
      "cell_type": "markdown",
      "metadata": {
        "id": "e43229f3ad4f"
      },
      "source": [
        "### Load models"
      ]
    },
    {
      "cell_type": "code",
      "execution_count": 7,
      "metadata": {
        "id": "cf93d5f0ce00"
      },
      "outputs": [],
      "source": [
        "# Set Gemini Flash and Pro models to be used in this notebook\n",
        "GEMINI_FLASH_MODEL_ID = \"gemini-2.0-flash-001\"\n",
        "GEMINI_PRO_MODEL_ID = \"gemini-2.0-flash\""
      ]
    },
    {
      "cell_type": "markdown",
      "metadata": {
        "id": "109111fae02c"
      },
      "source": [
        "## Summarize a YouTube video"
      ]
    },
    {
      "cell_type": "markdown",
      "metadata": {
        "id": "1fe7e2663c3a"
      },
      "source": [
        "Provide a link to a public YouTube video that you'd like to summarize. Ensure that the video is less than an hour long (if using Gemini 2.0, as is shown below; can try up to a 2-hour video with Gemini 2.0) to make sure it fits in the context window.\n",
        "\n",
        "The default content to be summarized is [this 6.5-minute video showing how Major League Baseball (MLB) analyzes data using Google Cloud](https://www.youtube.com/watch?v=O_W_VGUeHVI)."
      ]
    },
    {
      "cell_type": "code",
      "execution_count": 8,
      "metadata": {
        "id": "5c8a32e14eec",
        "outputId": "9e845684-6aa9-4dbf-c187-7ad0036e9cbc",
        "colab": {
          "base_uri": "https://localhost:8080/",
          "height": 336
        }
      },
      "outputs": [
        {
          "output_type": "display_data",
          "data": {
            "text/plain": [
              "<IPython.core.display.HTML object>"
            ],
            "text/html": [
              "\n",
              "    <iframe width=\"560\" height=\"315\" src=\"https://www.youtube.com/embed/O_W_VGUeHVI\"\n",
              "    title=\"YouTube video player\" frameborder=\"0\" allow=\"accelerometer; autoplay; \n",
              "    clipboard-write; encrypted-media; gyroscope; picture-in-picture\" allowfullscreen>\n",
              "    </iframe>\n",
              "    "
            ]
          },
          "metadata": {}
        }
      ],
      "source": [
        "# Provide link to a public YouTube video to summarize\n",
        "YOUTUBE_VIDEO_URL = (\n",
        "    \"https://www.youtube.com/watch?v=O_W_VGUeHVI\"  # @param {type:\"string\"}\n",
        ")\n",
        "\n",
        "display_youtube_video(YOUTUBE_VIDEO_URL)"
      ]
    },
    {
      "cell_type": "code",
      "execution_count": 13,
      "metadata": {
        "id": "9bd742163fc7",
        "outputId": "5946adcf-9df8-4c17-c37d-82c0312c1f5b",
        "colab": {
          "base_uri": "https://localhost:8080/",
          "height": 400
        }
      },
      "outputs": [
        {
          "output_type": "display_data",
          "data": {
            "text/plain": [
              "<IPython.core.display.Markdown object>"
            ],
            "text/markdown": "Here’s a detailed summary of the video:\n\n0:00​–0:07 The speaker introduces the topic of the video: MLB’s partnership with Google Cloud to answer deep questions with data.\n0:07-0:24 There is a montage that shows black and white footage of baseball throughout the decades.\n0:24–0:38 The video transitions to show the Google Cloud being the “Official Cloud Technology of MLB.\"\n0:38–0:54 The video transitions to the data analysis used to answer burning questions that fans want to be answered.\n0:54–1:04 Josh Frost, Vice President, Product Management at MLB is introduced, and discusses how 25 million unique data points are captured per game.\n1:04–1:14 There is a montage that shows amazing saves and celebrations by players.\n1:14–1:25 Alok Pattani, Data Science Developer Advocate at Google, is introduced.\n1:25–1:39 Pattani discusses how the data in MLB’s Film Room is tracked many times a second, with instrumentation and technology helping to process that data.\n1:39–2:03 The video transitions to Rob Engel, Senior Director Software Engineering at MLB. He talks about using Anthos, a deployed Kubernetes inside the ballpark, which sends the data to the Google Cloud Kubernetes engine. This is then used to create stats using data from the MLB.\n2:03–2:23 Back with Priyanka Vergadia and Rob Engel, as she asks how it all works, and how the data is collected and processed.\n2:23–2:31 Engel explains how the cameras are tracking everything about that pitch in real-time, at 30 frames per second.\n2:31–2:45 The video shows how those cameras have 60 data points about every single pitch. Data processors collect the data from Hawkeye and hold it in their data center.\n2:45–2:55 He says that data can then be queried, and that they need a highly scalable technology such as BigTable.\n2:55–3:01 Engel notes how BigTable is awesome to use for post-tracking.\n3:01–3:15 He then explains how they have a project called “Field Vision,” which creates a constant stream of pose-tracking data that is visible to the fans on their computer.\n3:15–3:30 Veragadia questions further processing and making it available for APIs.\n3:30–3:47 The video displays a graphic of what the process flow is: \nAnthos In-ballpark Tools > Kubernetes Engine Gameday Engine > BigTable Cloud Storage > DataFlow Cloud Composer > Big Query MLB Stats API.\n3:47–3:57 Engel explains how this is all is a home field advantage.\n3:57–4:27 John Krazit, Director, Baseball Systems at Arizona Diamondbacks, is introduced.\n4:27–4:55 She asks John how his team utilizes data.\n4:55–5:06 The scene reverts to Veragadia, who asks how analysts can use data from the cloud, so that they are able to translate into something the average fan cares about.\n5:06–5:28 Sarah Langs, Reporter/Researcher at MLB Advanced Media, is introduced, saying that it depends on what information she needs.\n5:28–5:57 Langs discusses how she would use Baseball Savant, and then talks about how Statcast allows measurement of everything, in a way that will speak to the average fan.\n5:57-6:30 The video concludes with how sports data analytics is a powerful tool, thanking the viewer for joining her on this journey."
          },
          "metadata": {}
        }
      ],
      "source": [
        "# Call Gemini API with prompt to summarize video\n",
        "video_summary_prompt = \"Give a detailed summary of this video.\"\n",
        "\n",
        "video_summary_response = client.models.generate_content(\n",
        "    model=GEMINI_FLASH_MODEL_ID,\n",
        "    contents=[\n",
        "        Part.from_uri(\n",
        "            file_uri=YOUTUBE_VIDEO_URL,\n",
        "            mime_type=\"video/webm\",\n",
        "        ),\n",
        "        video_summary_prompt,\n",
        "    ],\n",
        ")\n",
        "\n",
        "# Display results\n",
        "display(Markdown(video_summary_response.text))"
      ]
    },
    {
      "cell_type": "markdown",
      "metadata": {
        "id": "09221a4ba6a9"
      },
      "source": [
        "## Extract structured output from a YouTube video"
      ]
    },
    {
      "cell_type": "markdown",
      "metadata": {
        "id": "db6bc26fca7d"
      },
      "source": [
        "Next, we'll show how to extract structured outputs using [controlled generation](https://cloud.google.com/vertex-ai/generative-ai/docs/multimodal/control-generated-output), in this case from a video that covers multiple topics.\n",
        "\n",
        "We're going to see how Gemini's industry-leading 2 million token context window can help analyze [the full opening keynote](https://www.youtube.com/watch?v=V6DJYGn2SFk) from our Next conference back in April - all 1 hour and 41 minutes of it!"
      ]
    },
    {
      "cell_type": "code",
      "execution_count": 10,
      "metadata": {
        "id": "fc98b36d5fc4",
        "outputId": "ff26a29e-aa2c-4c66-fe53-1b2930f5610a",
        "colab": {
          "base_uri": "https://localhost:8080/",
          "height": 336
        }
      },
      "outputs": [
        {
          "output_type": "display_data",
          "data": {
            "text/plain": [
              "<IPython.core.display.HTML object>"
            ],
            "text/html": [
              "\n",
              "    <iframe width=\"560\" height=\"315\" src=\"https://www.youtube.com/embed/M-CzbTUVykg\"\n",
              "    title=\"YouTube video player\" frameborder=\"0\" allow=\"accelerometer; autoplay; \n",
              "    clipboard-write; encrypted-media; gyroscope; picture-in-picture\" allowfullscreen>\n",
              "    </iframe>\n",
              "    "
            ]
          },
          "metadata": {}
        }
      ],
      "source": [
        "# Link to full Cloud Next '24 Opening Keynote video\n",
        "# cloud_next_keynote_video_url = \"https://www.youtube.com/watch?v=V6DJYGn2SFk\"\n",
        "\n",
        "# Uncomment line below to replace with 14-min keynote summary video instead (faster)\n",
        "cloud_next_keynote_video_url = \"https://www.youtube.com/watch?v=M-CzbTUVykg\"\n",
        "\n",
        "display_youtube_video(cloud_next_keynote_video_url)"
      ]
    },
    {
      "cell_type": "markdown",
      "metadata": {
        "id": "e904c020d521"
      },
      "source": [
        "Below is a prompt to extract the biggest product announcements that were made during this keynote. We use the response schema to show that we want valid JSON output in a particular form, including a constraint specifying that the \"product status\" field should be either GA, Preview, or Coming Soon.\n",
        "\n",
        "The following cell may take several minutes to run, as Gemini 2.0 Pro is analyzing all 101 minutes of the video and audio to produce comprehensive results."
      ]
    },
    {
      "cell_type": "code",
      "execution_count": 14,
      "metadata": {
        "id": "d5a93cd5d2fa",
        "outputId": "98034916-293e-42f8-9726-8109e563ca0e",
        "colab": {
          "base_uri": "https://localhost:8080/"
        }
      },
      "outputs": [
        {
          "output_type": "stream",
          "name": "stdout",
          "text": [
            "[\n",
            "  {\n",
            "    \"name\": \"Gemini 1.5 Pro\",\n",
            "    \"product_status\": \"Preview\",\n",
            "    \"quote_from_presenter\": \"Bringing the world's largest context window to developers.\"\n",
            "  },\n",
            "  {\n",
            "    \"name\": \"A3 Mega VMs\",\n",
            "    \"product_status\": \"GA\",\n",
            "    \"quote_from_presenter\": \"2x the network bandwidth vs. A3.\"\n",
            "  },\n",
            "  {\n",
            "    \"name\": \"NVIDIA GB200 NVL72\",\n",
            "    \"product_status\": \"Coming Soon\",\n",
            "    \"quote_from_presenter\": \"Coming in early 2025.\"\n",
            "  },\n",
            "  {\n",
            "    \"name\": \"AI Optimized Storage\",\n",
            "    \"product_status\": \"Preview\",\n",
            "    \"quote_from_presenter\": \"Accelerating inference with Hyperdisk ML.\"\n",
            "  },\n",
            "  {\n",
            "    \"name\": \"Google Axion Processor\",\n",
            "    \"product_status\": \"Preview\",\n",
            "    \"quote_from_presenter\": \"Our first custom Arm-based CPU designed for the data center.\"\n",
            "  },\n",
            "  {\n",
            "    \"name\": \"Vertex AI Agent Builder\",\n",
            "    \"product_status\": \"Preview\",\n",
            "    \"quote_from_presenter\": \"You can now create customer agents that are amazingly powerful in just three key steps.\"\n",
            "  },\n",
            "  {\n",
            "    \"name\": \"AI Meetings and Messaging Add-on\",\n",
            "    \"product_status\": \"GA\",\n",
            "    \"quote_from_presenter\": \"Take notes for me, chat summarization, and real-time translation.\"\n",
            "  },\n",
            "  {\n",
            "    \"name\": \"Imagen 2.0\",\n",
            "    \"product_status\": \"GA\",\n",
            "    \"quote_from_presenter\": \"Our most advanced text-to-image model helps businesses create images that match their specific brand requirements.\"\n",
            "  },\n",
            "  {\n",
            "    \"name\": \"Text-to-Live Image\",\n",
            "    \"product_status\": \"Preview\",\n",
            "    \"quote_from_presenter\": \"Marketing and creative teams can generate animated images from a text prompt.\"\n",
            "  },\n",
            "  {\n",
            "    \"name\": \"Gemini Cloud Assist\",\n",
            "    \"product_status\": \"Preview\",\n",
            "    \"quote_from_presenter\": \"Design, secure, operate, troubleshoot, and optimize app performance and costs.\"\n",
            "  },\n",
            "  {\n",
            "    \"name\": \"Vector Indexing in BigQuery and AlloyDB\",\n",
            "    \"product_status\": \"Preview\",\n",
            "    \"quote_from_presenter\": \"Query the right data in analytical and operational systems.\"\n",
            "  },\n",
            "  {\n",
            "    \"name\": \"Direct Access to Vertex AI from BigQuery\",\n",
            "    \"product_status\": \"Preview\",\n",
            "    \"quote_from_presenter\": \"Access and analyze documents, videos, images, and audio with your data.\"\n",
            "  },\n",
            "  {\n",
            "    \"name\": \"Gemini in Threat Intelligence\",\n",
            "    \"product_status\": \"Preview\",\n",
            "    \"quote_from_presenter\": \"Enables you to use natural language prompts to get deep insight about threat behavior actors.\"\n",
            "  }\n",
            "]\n"
          ]
        }
      ],
      "source": [
        "# Set up pieces (prompt, response schema, config) and run video extraction\n",
        "\n",
        "video_extraction_prompt = (\n",
        "    \"Provide a summary of the biggest product announcements \"\n",
        "    \"that were made in this Google Cloud Next keynote video including:\\n\"\n",
        "    \"  - name\\n\"\n",
        "    '  - product status: \"GA\" (Generally Available), \"Preview\", or \"Coming Soon\"\\n'\n",
        "    \"  - key quote from the presenter about the product, 20 words or fewer per product\\n\\n\"\n",
        "    \"Make sure to look through and listen to the whole video, start to finish, to find \"\n",
        "    \"the top product announcements. Only reference information in the video itself in \"\n",
        "    \"your response.\"\n",
        ")\n",
        "\n",
        "video_extraction_response_schema = {\n",
        "    \"type\": \"ARRAY\",\n",
        "    \"items\": {\n",
        "        \"type\": \"OBJECT\",\n",
        "        \"properties\": {\n",
        "            \"name\": {\"type\": \"STRING\"},\n",
        "            \"product_status\": {\n",
        "                \"type\": \"STRING\",\n",
        "                \"enum\": [\"GA\", \"Preview\", \"Coming Soon\"],\n",
        "            },\n",
        "            \"quote_from_presenter\": {\"type\": \"STRING\"},\n",
        "        },\n",
        "    },\n",
        "}\n",
        "\n",
        "video_extraction_json_generation_config = GenerateContentConfig(\n",
        "    temperature=0.0,\n",
        "    max_output_tokens=8192,\n",
        "    response_mime_type=\"application/json\",\n",
        "    response_schema=video_extraction_response_schema,\n",
        ")\n",
        "\n",
        "video_extraction_response = client.models.generate_content(\n",
        "    model=GEMINI_PRO_MODEL_ID,\n",
        "    contents=[\n",
        "        video_extraction_prompt,\n",
        "        Part.from_uri(\n",
        "            file_uri=cloud_next_keynote_video_url,\n",
        "            mime_type=\"video/webm\",\n",
        "        ),\n",
        "    ],\n",
        "    config=video_extraction_json_generation_config,\n",
        ")\n",
        "\n",
        "print(video_extraction_response.text)"
      ]
    },
    {
      "cell_type": "code",
      "execution_count": 15,
      "metadata": {
        "id": "b7b6aa978eb8",
        "outputId": "8bfe603e-d448-4ce2-c0fa-32792e3cf1cb",
        "colab": {
          "base_uri": "https://localhost:8080/",
          "height": 590
        }
      },
      "outputs": [
        {
          "output_type": "stream",
          "name": "stderr",
          "text": [
            "/usr/local/lib/python3.11/dist-packages/itables/typing.py:196: SyntaxWarning: maxBytes=1000000000.0 does not match NotRequired[Union[int, str]]: value of key 'maxBytes' of dict did not match any element in the union:\n",
            "  int: is not an instance of int\n",
            "  str: is not an instance of str. You can silence this warning by setting `itables.options.warn_on_undocumented_option=False`. If you believe ITableOptions should be updated, please make a PR or open an issue at https://github.com/mwouts/itables\n",
            "  warnings.warn(\n"
          ]
        },
        {
          "output_type": "display_data",
          "data": {
            "text/plain": [
              "<IPython.core.display.HTML object>"
            ],
            "text/html": [
              "<!--| quarto-html-table-processing: none -->\n",
              "<table id=\"itables_4d3a9e4a_18b8_443e_9e31_4ad12ff466af\"><tbody><tr>\n",
              "    <td style=\"vertical-align:middle; text-align:left\">\n",
              "    <a href=https://mwouts.github.io/itables/><svg class=\"main-svg\" xmlns=\"http://www.w3.org/2000/svg\" xmlns:xlink=\"http://www.w3.org/1999/xlink\"\n",
              "width=\"64\" viewBox=\"0 0 500 400\" style=\"font-family: 'Droid Sans', sans-serif;\">\n",
              "    <g style=\"fill:#d9d7fc\">\n",
              "        <path d=\"M100,400H500V357H100Z\" />\n",
              "        <path d=\"M100,300H400V257H100Z\" />\n",
              "        <path d=\"M0,200H400V157H0Z\" />\n",
              "        <path d=\"M100,100H500V57H100Z\" />\n",
              "        <path d=\"M100,350H500V307H100Z\" />\n",
              "        <path d=\"M100,250H400V207H100Z\" />\n",
              "        <path d=\"M0,150H400V107H0Z\" />\n",
              "        <path d=\"M100,50H500V7H100Z\" />\n",
              "    </g>\n",
              "    <g style=\"fill:#1a1366;stroke:#1a1366;\">\n",
              "   <rect x=\"100\" y=\"7\" width=\"400\" height=\"43\">\n",
              "    <animate\n",
              "      attributeName=\"width\"\n",
              "      values=\"0;400;0\"\n",
              "      dur=\"5s\"\n",
              "      repeatCount=\"indefinite\" />\n",
              "      <animate\n",
              "      attributeName=\"x\"\n",
              "      values=\"100;100;500\"\n",
              "      dur=\"5s\"\n",
              "      repeatCount=\"indefinite\" />\n",
              "  </rect>\n",
              "        <rect x=\"0\" y=\"107\" width=\"400\" height=\"43\">\n",
              "    <animate\n",
              "      attributeName=\"width\"\n",
              "      values=\"0;400;0\"\n",
              "      dur=\"3.5s\"\n",
              "      repeatCount=\"indefinite\" />\n",
              "    <animate\n",
              "      attributeName=\"x\"\n",
              "      values=\"0;0;400\"\n",
              "      dur=\"3.5s\"\n",
              "      repeatCount=\"indefinite\" />\n",
              "  </rect>\n",
              "        <rect x=\"100\" y=\"207\" width=\"300\" height=\"43\">\n",
              "    <animate\n",
              "      attributeName=\"width\"\n",
              "      values=\"0;300;0\"\n",
              "      dur=\"3s\"\n",
              "      repeatCount=\"indefinite\" />\n",
              "    <animate\n",
              "      attributeName=\"x\"\n",
              "      values=\"100;100;400\"\n",
              "      dur=\"3s\"\n",
              "      repeatCount=\"indefinite\" />\n",
              "  </rect>\n",
              "        <rect x=\"100\" y=\"307\" width=\"400\" height=\"43\">\n",
              "    <animate\n",
              "      attributeName=\"width\"\n",
              "      values=\"0;400;0\"\n",
              "      dur=\"4s\"\n",
              "      repeatCount=\"indefinite\" />\n",
              "      <animate\n",
              "      attributeName=\"x\"\n",
              "      values=\"100;100;500\"\n",
              "      dur=\"4s\"\n",
              "      repeatCount=\"indefinite\" />\n",
              "  </rect>\n",
              "        <g style=\"fill:transparent;stroke-width:8; stroke-linejoin:round\" rx=\"5\">\n",
              "            <g transform=\"translate(45 50) rotate(-45)\">\n",
              "                <circle r=\"33\" cx=\"0\" cy=\"0\" />\n",
              "                <rect x=\"-8\" y=\"32\" width=\"16\" height=\"30\" />\n",
              "            </g>\n",
              "\n",
              "            <g transform=\"translate(450 152)\">\n",
              "                <polyline points=\"-15,-20 -35,-20 -35,40 25,40 25,20\" />\n",
              "                <rect x=\"-15\" y=\"-40\" width=\"60\" height=\"60\" />\n",
              "            </g>\n",
              "\n",
              "            <g transform=\"translate(50 352)\">\n",
              "                <polygon points=\"-35,-5 0,-40 35,-5\" />\n",
              "                <polygon points=\"-35,10 0,45 35,10\" />\n",
              "            </g>\n",
              "\n",
              "            <g transform=\"translate(75 250)\">\n",
              "                <polyline points=\"-30,30 -60,0 -30,-30\" />\n",
              "                <polyline points=\"0,30 -30,0 0,-30\" />\n",
              "            </g>\n",
              "\n",
              "            <g transform=\"translate(425 250) rotate(180)\">\n",
              "                <polyline points=\"-30,30 -60,0 -30,-30\" />\n",
              "                <polyline points=\"0,30 -30,0 0,-30\" />\n",
              "            </g>\n",
              "        </g>\n",
              "    </g>\n",
              "</svg>\n",
              "</a>\n",
              "    Loading ITables v2.4.0 from the internet...\n",
              "    (need <a href=https://mwouts.github.io/itables/troubleshooting.html>help</a>?)</td>\n",
              "    </tr></tbody></table>\n",
              "<link href=\"https://www.unpkg.com/dt_for_itables@2.3.2/dt_bundle.css\" rel=\"stylesheet\">\n",
              "<script type=\"module\">\n",
              "    import { ITable, jQuery as $ } from 'https://www.unpkg.com/dt_for_itables@2.3.2/dt_bundle.js';\n",
              "\n",
              "    document.querySelectorAll(\"#itables_4d3a9e4a_18b8_443e_9e31_4ad12ff466af:not(.dataTable)\").forEach(table => {\n",
              "        if (!(table instanceof HTMLTableElement))\n",
              "            return;\n",
              "\n",
              "        let dt_args = {\"layout\": {\"topStart\": \"pageLength\", \"topEnd\": \"search\", \"bottomStart\": \"info\", \"bottomEnd\": \"paging\"}, \"text_in_header_can_be_selected\": true, \"order\": [], \"style\": {\"table-layout\": \"auto\", \"width\": \"auto\", \"margin\": \"auto\", \"caption-side\": \"bottom\"}, \"classes\": [\"display\", \"nowrap\"], \"column_filters\": \"header\", \"table_html\": \"<table><thead><th>name</th><th>product_status</th><th>quote_from_presenter</th></thead></table>\", \"data_json\": \"[[\\\"Gemini 1.5 Pro\\\", \\\"Preview\\\", \\\"Bringing the world's largest context window to developers.\\\"], [\\\"A3 Mega VMs\\\", \\\"GA\\\", \\\"2x the network bandwidth vs. A3.\\\"], [\\\"NVIDIA GB200 NVL72\\\", \\\"Coming Soon\\\", \\\"Coming in early 2025.\\\"], [\\\"AI Optimized Storage\\\", \\\"Preview\\\", \\\"Accelerating inference with Hyperdisk ML.\\\"], [\\\"Google Axion Processor\\\", \\\"Preview\\\", \\\"Our first custom Arm-based CPU designed for the data center.\\\"], [\\\"Vertex AI Agent Builder\\\", \\\"Preview\\\", \\\"You can now create customer agents that are amazingly powerful in just three key steps.\\\"], [\\\"AI Meetings and Messaging Add-on\\\", \\\"GA\\\", \\\"Take notes for me, chat summarization, and real-time translation.\\\"], [\\\"Imagen 2.0\\\", \\\"GA\\\", \\\"Our most advanced text-to-image model helps businesses create images that match their specific brand requirements.\\\"], [\\\"Text-to-Live Image\\\", \\\"Preview\\\", \\\"Marketing and creative teams can generate animated images from a text prompt.\\\"], [\\\"Gemini Cloud Assist\\\", \\\"Preview\\\", \\\"Design, secure, operate, troubleshoot, and optimize app performance and costs.\\\"], [\\\"Vector Indexing in BigQuery and AlloyDB\\\", \\\"Preview\\\", \\\"Query the right data in analytical and operational systems.\\\"], [\\\"Direct Access to Vertex AI from BigQuery\\\", \\\"Preview\\\", \\\"Access and analyze documents, videos, images, and audio with your data.\\\"], [\\\"Gemini in Threat Intelligence\\\", \\\"Preview\\\", \\\"Enables you to use natural language prompts to get deep insight about threat behavior actors.\\\"]]\"};\n",
              "        new ITable(table, dt_args);\n",
              "    });\n",
              "</script>\n"
            ]
          },
          "metadata": {}
        }
      ],
      "source": [
        "# Convert structured output from response to data frame for display and/or further analysis\n",
        "video_extraction_response_df = pd.DataFrame(video_extraction_response.parsed)\n",
        "\n",
        "show(video_extraction_response_df)"
      ]
    },
    {
      "cell_type": "markdown",
      "metadata": {
        "id": "cfa2e8496790"
      },
      "source": [
        "## Creating insights from analyzing multiple YouTube videos together"
      ]
    },
    {
      "cell_type": "markdown",
      "metadata": {
        "id": "c634255fd419"
      },
      "source": [
        "### Google \"Year in Search\" videos\n",
        "Now, consider expanding the problem to a more common enterprise use case: extracting information from _multiple_ YouTube videos at once.\n",
        "\n",
        "This time, we'll use [Google's \"Year in Search\" videos](https://about.google/intl/ALL_us/stories/year-in-search/), which summarize the questions, people, and moments that captured the world's attention in each year. As of fall 2024, there are 14 of these videos, each 2-4 minutes in length, from [2010](https://www.youtube.com/watch?v=F0QXB5pw2qE) through [2023](https://www.youtube.com/watch?v=3KtWfp0UopM).\n",
        "\n",
        "We start by reading in a CSV file that has links to all the videos."
      ]
    },
    {
      "cell_type": "code",
      "execution_count": 16,
      "metadata": {
        "id": "b004061c908a",
        "outputId": "29a9747c-bebf-4f61-d67a-1f7d966677ce",
        "colab": {
          "base_uri": "https://localhost:8080/",
          "height": 488
        }
      },
      "outputs": [
        {
          "output_type": "execute_result",
          "data": {
            "text/plain": [
              "    year                                      yt_link\n",
              "0   2023  https://www.youtube.com/watch?v=3KtWfp0UopM\n",
              "1   2022  https://www.youtube.com/watch?v=4WXs3sKu41I\n",
              "2   2021  https://www.youtube.com/watch?v=EqboAI-Vk-U\n",
              "3   2020  https://www.youtube.com/watch?v=rokGy0huYEA\n",
              "4   2019  https://www.youtube.com/watch?v=ZRCdORJiUgU\n",
              "5   2018  https://www.youtube.com/watch?v=6aFdEhEZQjE\n",
              "6   2017  https://www.youtube.com/watch?v=vI4LHl4yFuo\n",
              "7   2016  https://www.youtube.com/watch?v=KIViy7L_lo8\n",
              "8   2015  https://www.youtube.com/watch?v=q7o7R5BgWDY\n",
              "9   2014  https://www.youtube.com/watch?v=DVwHCGAr_OE\n",
              "10  2013  https://www.youtube.com/watch?v=Lv-sY_z8MNs\n",
              "11  2012  https://www.youtube.com/watch?v=xY_MUB8adEQ\n",
              "12  2011  https://www.youtube.com/watch?v=SAIEamakLoY\n",
              "13  2010  https://www.youtube.com/watch?v=F0QXB5pw2qE"
            ],
            "text/html": [
              "\n",
              "  <div id=\"df-a567091a-b5c3-40c8-8020-bd9bec0fa7f2\" class=\"colab-df-container\">\n",
              "    <div>\n",
              "<style scoped>\n",
              "    .dataframe tbody tr th:only-of-type {\n",
              "        vertical-align: middle;\n",
              "    }\n",
              "\n",
              "    .dataframe tbody tr th {\n",
              "        vertical-align: top;\n",
              "    }\n",
              "\n",
              "    .dataframe thead th {\n",
              "        text-align: right;\n",
              "    }\n",
              "</style>\n",
              "<table border=\"1\" class=\"dataframe\">\n",
              "  <thead>\n",
              "    <tr style=\"text-align: right;\">\n",
              "      <th></th>\n",
              "      <th>year</th>\n",
              "      <th>yt_link</th>\n",
              "    </tr>\n",
              "  </thead>\n",
              "  <tbody>\n",
              "    <tr>\n",
              "      <th>0</th>\n",
              "      <td>2023</td>\n",
              "      <td>https://www.youtube.com/watch?v=3KtWfp0UopM</td>\n",
              "    </tr>\n",
              "    <tr>\n",
              "      <th>1</th>\n",
              "      <td>2022</td>\n",
              "      <td>https://www.youtube.com/watch?v=4WXs3sKu41I</td>\n",
              "    </tr>\n",
              "    <tr>\n",
              "      <th>2</th>\n",
              "      <td>2021</td>\n",
              "      <td>https://www.youtube.com/watch?v=EqboAI-Vk-U</td>\n",
              "    </tr>\n",
              "    <tr>\n",
              "      <th>3</th>\n",
              "      <td>2020</td>\n",
              "      <td>https://www.youtube.com/watch?v=rokGy0huYEA</td>\n",
              "    </tr>\n",
              "    <tr>\n",
              "      <th>4</th>\n",
              "      <td>2019</td>\n",
              "      <td>https://www.youtube.com/watch?v=ZRCdORJiUgU</td>\n",
              "    </tr>\n",
              "    <tr>\n",
              "      <th>5</th>\n",
              "      <td>2018</td>\n",
              "      <td>https://www.youtube.com/watch?v=6aFdEhEZQjE</td>\n",
              "    </tr>\n",
              "    <tr>\n",
              "      <th>6</th>\n",
              "      <td>2017</td>\n",
              "      <td>https://www.youtube.com/watch?v=vI4LHl4yFuo</td>\n",
              "    </tr>\n",
              "    <tr>\n",
              "      <th>7</th>\n",
              "      <td>2016</td>\n",
              "      <td>https://www.youtube.com/watch?v=KIViy7L_lo8</td>\n",
              "    </tr>\n",
              "    <tr>\n",
              "      <th>8</th>\n",
              "      <td>2015</td>\n",
              "      <td>https://www.youtube.com/watch?v=q7o7R5BgWDY</td>\n",
              "    </tr>\n",
              "    <tr>\n",
              "      <th>9</th>\n",
              "      <td>2014</td>\n",
              "      <td>https://www.youtube.com/watch?v=DVwHCGAr_OE</td>\n",
              "    </tr>\n",
              "    <tr>\n",
              "      <th>10</th>\n",
              "      <td>2013</td>\n",
              "      <td>https://www.youtube.com/watch?v=Lv-sY_z8MNs</td>\n",
              "    </tr>\n",
              "    <tr>\n",
              "      <th>11</th>\n",
              "      <td>2012</td>\n",
              "      <td>https://www.youtube.com/watch?v=xY_MUB8adEQ</td>\n",
              "    </tr>\n",
              "    <tr>\n",
              "      <th>12</th>\n",
              "      <td>2011</td>\n",
              "      <td>https://www.youtube.com/watch?v=SAIEamakLoY</td>\n",
              "    </tr>\n",
              "    <tr>\n",
              "      <th>13</th>\n",
              "      <td>2010</td>\n",
              "      <td>https://www.youtube.com/watch?v=F0QXB5pw2qE</td>\n",
              "    </tr>\n",
              "  </tbody>\n",
              "</table>\n",
              "</div>\n",
              "    <div class=\"colab-df-buttons\">\n",
              "\n",
              "  <div class=\"colab-df-container\">\n",
              "    <button class=\"colab-df-convert\" onclick=\"convertToInteractive('df-a567091a-b5c3-40c8-8020-bd9bec0fa7f2')\"\n",
              "            title=\"Convert this dataframe to an interactive table.\"\n",
              "            style=\"display:none;\">\n",
              "\n",
              "  <svg xmlns=\"http://www.w3.org/2000/svg\" height=\"24px\" viewBox=\"0 -960 960 960\">\n",
              "    <path d=\"M120-120v-720h720v720H120Zm60-500h600v-160H180v160Zm220 220h160v-160H400v160Zm0 220h160v-160H400v160ZM180-400h160v-160H180v160Zm440 0h160v-160H620v160ZM180-180h160v-160H180v160Zm440 0h160v-160H620v160Z\"/>\n",
              "  </svg>\n",
              "    </button>\n",
              "\n",
              "  <style>\n",
              "    .colab-df-container {\n",
              "      display:flex;\n",
              "      gap: 12px;\n",
              "    }\n",
              "\n",
              "    .colab-df-convert {\n",
              "      background-color: #E8F0FE;\n",
              "      border: none;\n",
              "      border-radius: 50%;\n",
              "      cursor: pointer;\n",
              "      display: none;\n",
              "      fill: #1967D2;\n",
              "      height: 32px;\n",
              "      padding: 0 0 0 0;\n",
              "      width: 32px;\n",
              "    }\n",
              "\n",
              "    .colab-df-convert:hover {\n",
              "      background-color: #E2EBFA;\n",
              "      box-shadow: 0px 1px 2px rgba(60, 64, 67, 0.3), 0px 1px 3px 1px rgba(60, 64, 67, 0.15);\n",
              "      fill: #174EA6;\n",
              "    }\n",
              "\n",
              "    .colab-df-buttons div {\n",
              "      margin-bottom: 4px;\n",
              "    }\n",
              "\n",
              "    [theme=dark] .colab-df-convert {\n",
              "      background-color: #3B4455;\n",
              "      fill: #D2E3FC;\n",
              "    }\n",
              "\n",
              "    [theme=dark] .colab-df-convert:hover {\n",
              "      background-color: #434B5C;\n",
              "      box-shadow: 0px 1px 3px 1px rgba(0, 0, 0, 0.15);\n",
              "      filter: drop-shadow(0px 1px 2px rgba(0, 0, 0, 0.3));\n",
              "      fill: #FFFFFF;\n",
              "    }\n",
              "  </style>\n",
              "\n",
              "    <script>\n",
              "      const buttonEl =\n",
              "        document.querySelector('#df-a567091a-b5c3-40c8-8020-bd9bec0fa7f2 button.colab-df-convert');\n",
              "      buttonEl.style.display =\n",
              "        google.colab.kernel.accessAllowed ? 'block' : 'none';\n",
              "\n",
              "      async function convertToInteractive(key) {\n",
              "        const element = document.querySelector('#df-a567091a-b5c3-40c8-8020-bd9bec0fa7f2');\n",
              "        const dataTable =\n",
              "          await google.colab.kernel.invokeFunction('convertToInteractive',\n",
              "                                                    [key], {});\n",
              "        if (!dataTable) return;\n",
              "\n",
              "        const docLinkHtml = 'Like what you see? Visit the ' +\n",
              "          '<a target=\"_blank\" href=https://colab.research.google.com/notebooks/data_table.ipynb>data table notebook</a>'\n",
              "          + ' to learn more about interactive tables.';\n",
              "        element.innerHTML = '';\n",
              "        dataTable['output_type'] = 'display_data';\n",
              "        await google.colab.output.renderOutput(dataTable, element);\n",
              "        const docLink = document.createElement('div');\n",
              "        docLink.innerHTML = docLinkHtml;\n",
              "        element.appendChild(docLink);\n",
              "      }\n",
              "    </script>\n",
              "  </div>\n",
              "\n",
              "\n",
              "    <div id=\"df-9bf4f871-dda1-4895-b6e3-c0dc05bf1b32\">\n",
              "      <button class=\"colab-df-quickchart\" onclick=\"quickchart('df-9bf4f871-dda1-4895-b6e3-c0dc05bf1b32')\"\n",
              "                title=\"Suggest charts\"\n",
              "                style=\"display:none;\">\n",
              "\n",
              "<svg xmlns=\"http://www.w3.org/2000/svg\" height=\"24px\"viewBox=\"0 0 24 24\"\n",
              "     width=\"24px\">\n",
              "    <g>\n",
              "        <path d=\"M19 3H5c-1.1 0-2 .9-2 2v14c0 1.1.9 2 2 2h14c1.1 0 2-.9 2-2V5c0-1.1-.9-2-2-2zM9 17H7v-7h2v7zm4 0h-2V7h2v10zm4 0h-2v-4h2v4z\"/>\n",
              "    </g>\n",
              "</svg>\n",
              "      </button>\n",
              "\n",
              "<style>\n",
              "  .colab-df-quickchart {\n",
              "      --bg-color: #E8F0FE;\n",
              "      --fill-color: #1967D2;\n",
              "      --hover-bg-color: #E2EBFA;\n",
              "      --hover-fill-color: #174EA6;\n",
              "      --disabled-fill-color: #AAA;\n",
              "      --disabled-bg-color: #DDD;\n",
              "  }\n",
              "\n",
              "  [theme=dark] .colab-df-quickchart {\n",
              "      --bg-color: #3B4455;\n",
              "      --fill-color: #D2E3FC;\n",
              "      --hover-bg-color: #434B5C;\n",
              "      --hover-fill-color: #FFFFFF;\n",
              "      --disabled-bg-color: #3B4455;\n",
              "      --disabled-fill-color: #666;\n",
              "  }\n",
              "\n",
              "  .colab-df-quickchart {\n",
              "    background-color: var(--bg-color);\n",
              "    border: none;\n",
              "    border-radius: 50%;\n",
              "    cursor: pointer;\n",
              "    display: none;\n",
              "    fill: var(--fill-color);\n",
              "    height: 32px;\n",
              "    padding: 0;\n",
              "    width: 32px;\n",
              "  }\n",
              "\n",
              "  .colab-df-quickchart:hover {\n",
              "    background-color: var(--hover-bg-color);\n",
              "    box-shadow: 0 1px 2px rgba(60, 64, 67, 0.3), 0 1px 3px 1px rgba(60, 64, 67, 0.15);\n",
              "    fill: var(--button-hover-fill-color);\n",
              "  }\n",
              "\n",
              "  .colab-df-quickchart-complete:disabled,\n",
              "  .colab-df-quickchart-complete:disabled:hover {\n",
              "    background-color: var(--disabled-bg-color);\n",
              "    fill: var(--disabled-fill-color);\n",
              "    box-shadow: none;\n",
              "  }\n",
              "\n",
              "  .colab-df-spinner {\n",
              "    border: 2px solid var(--fill-color);\n",
              "    border-color: transparent;\n",
              "    border-bottom-color: var(--fill-color);\n",
              "    animation:\n",
              "      spin 1s steps(1) infinite;\n",
              "  }\n",
              "\n",
              "  @keyframes spin {\n",
              "    0% {\n",
              "      border-color: transparent;\n",
              "      border-bottom-color: var(--fill-color);\n",
              "      border-left-color: var(--fill-color);\n",
              "    }\n",
              "    20% {\n",
              "      border-color: transparent;\n",
              "      border-left-color: var(--fill-color);\n",
              "      border-top-color: var(--fill-color);\n",
              "    }\n",
              "    30% {\n",
              "      border-color: transparent;\n",
              "      border-left-color: var(--fill-color);\n",
              "      border-top-color: var(--fill-color);\n",
              "      border-right-color: var(--fill-color);\n",
              "    }\n",
              "    40% {\n",
              "      border-color: transparent;\n",
              "      border-right-color: var(--fill-color);\n",
              "      border-top-color: var(--fill-color);\n",
              "    }\n",
              "    60% {\n",
              "      border-color: transparent;\n",
              "      border-right-color: var(--fill-color);\n",
              "    }\n",
              "    80% {\n",
              "      border-color: transparent;\n",
              "      border-right-color: var(--fill-color);\n",
              "      border-bottom-color: var(--fill-color);\n",
              "    }\n",
              "    90% {\n",
              "      border-color: transparent;\n",
              "      border-bottom-color: var(--fill-color);\n",
              "    }\n",
              "  }\n",
              "</style>\n",
              "\n",
              "      <script>\n",
              "        async function quickchart(key) {\n",
              "          const quickchartButtonEl =\n",
              "            document.querySelector('#' + key + ' button');\n",
              "          quickchartButtonEl.disabled = true;  // To prevent multiple clicks.\n",
              "          quickchartButtonEl.classList.add('colab-df-spinner');\n",
              "          try {\n",
              "            const charts = await google.colab.kernel.invokeFunction(\n",
              "                'suggestCharts', [key], {});\n",
              "          } catch (error) {\n",
              "            console.error('Error during call to suggestCharts:', error);\n",
              "          }\n",
              "          quickchartButtonEl.classList.remove('colab-df-spinner');\n",
              "          quickchartButtonEl.classList.add('colab-df-quickchart-complete');\n",
              "        }\n",
              "        (() => {\n",
              "          let quickchartButtonEl =\n",
              "            document.querySelector('#df-9bf4f871-dda1-4895-b6e3-c0dc05bf1b32 button');\n",
              "          quickchartButtonEl.style.display =\n",
              "            google.colab.kernel.accessAllowed ? 'block' : 'none';\n",
              "        })();\n",
              "      </script>\n",
              "    </div>\n",
              "\n",
              "  <div id=\"id_566cf996-265e-4d1b-a081-60886ba26481\">\n",
              "    <style>\n",
              "      .colab-df-generate {\n",
              "        background-color: #E8F0FE;\n",
              "        border: none;\n",
              "        border-radius: 50%;\n",
              "        cursor: pointer;\n",
              "        display: none;\n",
              "        fill: #1967D2;\n",
              "        height: 32px;\n",
              "        padding: 0 0 0 0;\n",
              "        width: 32px;\n",
              "      }\n",
              "\n",
              "      .colab-df-generate:hover {\n",
              "        background-color: #E2EBFA;\n",
              "        box-shadow: 0px 1px 2px rgba(60, 64, 67, 0.3), 0px 1px 3px 1px rgba(60, 64, 67, 0.15);\n",
              "        fill: #174EA6;\n",
              "      }\n",
              "\n",
              "      [theme=dark] .colab-df-generate {\n",
              "        background-color: #3B4455;\n",
              "        fill: #D2E3FC;\n",
              "      }\n",
              "\n",
              "      [theme=dark] .colab-df-generate:hover {\n",
              "        background-color: #434B5C;\n",
              "        box-shadow: 0px 1px 3px 1px rgba(0, 0, 0, 0.15);\n",
              "        filter: drop-shadow(0px 1px 2px rgba(0, 0, 0, 0.3));\n",
              "        fill: #FFFFFF;\n",
              "      }\n",
              "    </style>\n",
              "    <button class=\"colab-df-generate\" onclick=\"generateWithVariable('year_in_search_yt_links')\"\n",
              "            title=\"Generate code using this dataframe.\"\n",
              "            style=\"display:none;\">\n",
              "\n",
              "  <svg xmlns=\"http://www.w3.org/2000/svg\" height=\"24px\"viewBox=\"0 0 24 24\"\n",
              "       width=\"24px\">\n",
              "    <path d=\"M7,19H8.4L18.45,9,17,7.55,7,17.6ZM5,21V16.75L18.45,3.32a2,2,0,0,1,2.83,0l1.4,1.43a1.91,1.91,0,0,1,.58,1.4,1.91,1.91,0,0,1-.58,1.4L9.25,21ZM18.45,9,17,7.55Zm-12,3A5.31,5.31,0,0,0,4.9,8.1,5.31,5.31,0,0,0,1,6.5,5.31,5.31,0,0,0,4.9,4.9,5.31,5.31,0,0,0,6.5,1,5.31,5.31,0,0,0,8.1,4.9,5.31,5.31,0,0,0,12,6.5,5.46,5.46,0,0,0,6.5,12Z\"/>\n",
              "  </svg>\n",
              "    </button>\n",
              "    <script>\n",
              "      (() => {\n",
              "      const buttonEl =\n",
              "        document.querySelector('#id_566cf996-265e-4d1b-a081-60886ba26481 button.colab-df-generate');\n",
              "      buttonEl.style.display =\n",
              "        google.colab.kernel.accessAllowed ? 'block' : 'none';\n",
              "\n",
              "      buttonEl.onclick = () => {\n",
              "        google.colab.notebook.generateWithVariable('year_in_search_yt_links');\n",
              "      }\n",
              "      })();\n",
              "    </script>\n",
              "  </div>\n",
              "\n",
              "    </div>\n",
              "  </div>\n"
            ],
            "application/vnd.google.colaboratory.intrinsic+json": {
              "type": "dataframe",
              "variable_name": "year_in_search_yt_links",
              "summary": "{\n  \"name\": \"year_in_search_yt_links\",\n  \"rows\": 14,\n  \"fields\": [\n    {\n      \"column\": \"year\",\n      \"properties\": {\n        \"dtype\": \"number\",\n        \"std\": 4,\n        \"min\": 2010,\n        \"max\": 2023,\n        \"num_unique_values\": 14,\n        \"samples\": [\n          2014,\n          2012,\n          2023\n        ],\n        \"semantic_type\": \"\",\n        \"description\": \"\"\n      }\n    },\n    {\n      \"column\": \"yt_link\",\n      \"properties\": {\n        \"dtype\": \"string\",\n        \"num_unique_values\": 14,\n        \"samples\": [\n          \"https://www.youtube.com/watch?v=DVwHCGAr_OE\",\n          \"https://www.youtube.com/watch?v=xY_MUB8adEQ\",\n          \"https://www.youtube.com/watch?v=3KtWfp0UopM\"\n        ],\n        \"semantic_type\": \"\",\n        \"description\": \"\"\n      }\n    }\n  ]\n}"
            }
          },
          "metadata": {},
          "execution_count": 16
        }
      ],
      "source": [
        "# Read in table of Year in Search video links from public CSV file\n",
        "GOOGLE_YEAR_IN_SEARCH_VIDEO_LINKS_CSV_GCS_URI = (\n",
        "    \"gs://github-repo/video/google_year_in_search_video_links.csv\"\n",
        ")\n",
        "\n",
        "year_in_search_yt_links = pd.read_csv(GOOGLE_YEAR_IN_SEARCH_VIDEO_LINKS_CSV_GCS_URI)\n",
        "\n",
        "year_in_search_yt_links"
      ]
    },
    {
      "cell_type": "markdown",
      "metadata": {
        "id": "145522e33a47"
      },
      "source": [
        "### Set up for analyzing multiple video files\n",
        "\n",
        "Let's say we are a sports agency who wants to see which athletes or teams appear most often in these videos as a measure of cultural relevance. Instead of watching and manually counting, we can use Gemini's multimodal capabilities and world knowledge to extract each appearance of an athlete or team into a structured output that we can use for further analysis.\n",
        "\n",
        "The system instructions, prompt, and response schema that will apply to all 14 videos are each created in the cell below."
      ]
    },
    {
      "cell_type": "code",
      "execution_count": 17,
      "metadata": {
        "id": "b8589a51547d"
      },
      "outputs": [],
      "source": [
        "# Set up pieces (prompt, response schema, config) for Google Year in Search videos\n",
        "multiple_video_extraction_system_instruction_text = (\n",
        "    \"You are a video analyst that \"\n",
        "    \"carefully looks through all frames of provided videos, extracting out the \"\n",
        "    \"pieces necessary to respond to user prompts.\"\n",
        ")\n",
        "\n",
        "multiple_video_extraction_prompt = (\n",
        "    \"Which sports athletes or teams are mentioned or \"\n",
        "    \"shown in this video? Please look through each frame carefully, and respond \"\n",
        "    \"with a complete list that includes the athlete or team's name (1 row per \"\n",
        "    \"athlete or team), whether they are an athlete or team, the sport they play, \"\n",
        "    \"and the timestamp into the video at which they appear (in mm:ss format, \"\n",
        "    \"do not give extra precision) for each one.\"\n",
        ")\n",
        "\n",
        "multiple_video_extraction_response_schema = {\n",
        "    \"type\": \"ARRAY\",\n",
        "    \"items\": {\n",
        "        \"type\": \"OBJECT\",\n",
        "        \"properties\": {\n",
        "            \"name\": {\"type\": \"STRING\"},\n",
        "            \"athlete_or_team\": {\"type\": \"STRING\", \"enum\": [\"athlete\", \"team\"]},\n",
        "            \"sport\": {\"type\": \"STRING\"},\n",
        "            \"video_timestamp\": {\"type\": \"STRING\"},\n",
        "        },\n",
        "    },\n",
        "}\n",
        "\n",
        "multiple_video_extraction_json_generation_config = GenerateContentConfig(\n",
        "    temperature=0.0,\n",
        "    max_output_tokens=8192,\n",
        "    response_mime_type=\"application/json\",\n",
        "    response_schema=multiple_video_extraction_response_schema,\n",
        ")"
      ]
    },
    {
      "cell_type": "markdown",
      "metadata": {
        "id": "0cb2d4688f68"
      },
      "source": [
        "Next, we'll set up to run each of these prompt/video pairs through the Gemini API _asynchronously_. This allows us to send all the requests to Gemini at once, then wait for all the answers to come back - a more efficient process than sending them synchronously (one-by-one). See more details in [this Google Cloud Community Medium blog post](https://medium.com/google-cloud/how-to-prompt-gemini-asynchronously-using-python-on-google-cloud-986ca45d9f1b).\n"
      ]
    },
    {
      "cell_type": "code",
      "execution_count": 18,
      "metadata": {
        "id": "5aa93ca907bc"
      },
      "outputs": [],
      "source": [
        "# Function for asynchronous generation\n",
        "\n",
        "\n",
        "@retry(wait=wait_random_exponential(multiplier=1, max=120), stop=stop_after_attempt(2))\n",
        "async def async_generate(prompt, yt_link):\n",
        "    try:\n",
        "        response = await client.aio.models.generate_content(\n",
        "            model=GEMINI_PRO_MODEL_ID,\n",
        "            contents=[prompt, Part.from_uri(file_uri=yt_link, mime_type=\"video/webm\")],\n",
        "            config=multiple_video_extraction_json_generation_config,\n",
        "        )\n",
        "\n",
        "        return response.to_json_dict()\n",
        "    except Exception as e:\n",
        "        print(\"Something failed, retrying\")\n",
        "        print(e)\n",
        "        with retry.stop_after_attempt(2) as retry_state:\n",
        "            if retry_state.attempt > 2:\n",
        "                return None\n",
        "        raise  # Re-raise the exception for tenacity to handle"
      ]
    },
    {
      "cell_type": "markdown",
      "metadata": {
        "id": "61265bdff388"
      },
      "source": [
        "### Run asynchronous Gemini calls to do video extraction"
      ]
    },
    {
      "cell_type": "code",
      "execution_count": 19,
      "metadata": {
        "id": "4191dc30d77a",
        "outputId": "dccf101b-4269-42f9-ea88-769e55bf5806",
        "colab": {
          "base_uri": "https://localhost:8080/"
        }
      },
      "outputs": [
        {
          "output_type": "stream",
          "name": "stdout",
          "text": [
            "Elapsed time: 21.66 seconds\n"
          ]
        }
      ],
      "source": [
        "# Perform asynchronous calls across all videos, gather responses\n",
        "import asyncio\n",
        "\n",
        "start_time = asyncio.get_event_loop().time()\n",
        "\n",
        "get_responses = [\n",
        "    async_generate(multiple_video_extraction_prompt, yt_link)\n",
        "    for yt_link in year_in_search_yt_links[\"yt_link\"]\n",
        "]\n",
        "\n",
        "multiple_video_extraction_responses = await asyncio.gather(*get_responses)\n",
        "\n",
        "end_time = asyncio.get_event_loop().time()\n",
        "\n",
        "elapsed_time = end_time - start_time\n",
        "\n",
        "print(f\"Elapsed time: {elapsed_time:.2f} seconds\")"
      ]
    },
    {
      "cell_type": "markdown",
      "metadata": {
        "id": "7c69057ae51d"
      },
      "source": [
        "### Extract and analyze video results across years\n",
        "\n",
        "Once we have the results from Gemini, we can process them and get table of every athlete or team appearance across all 14 \"Year in Search\" videos."
      ]
    },
    {
      "cell_type": "code",
      "execution_count": 20,
      "metadata": {
        "id": "6e424adf2cf8",
        "outputId": "5c4a55f8-3d09-4f39-d327-00d9abee43c4",
        "colab": {
          "base_uri": "https://localhost:8080/",
          "height": 590
        }
      },
      "outputs": [
        {
          "output_type": "stream",
          "name": "stderr",
          "text": [
            "/usr/local/lib/python3.11/dist-packages/itables/typing.py:196: SyntaxWarning: maxBytes=1000000000.0 does not match NotRequired[Union[int, str]]: value of key 'maxBytes' of dict did not match any element in the union:\n",
            "  int: is not an instance of int\n",
            "  str: is not an instance of str. You can silence this warning by setting `itables.options.warn_on_undocumented_option=False`. If you believe ITableOptions should be updated, please make a PR or open an issue at https://github.com/mwouts/itables\n",
            "  warnings.warn(\n"
          ]
        },
        {
          "output_type": "display_data",
          "data": {
            "text/plain": [
              "<IPython.core.display.HTML object>"
            ],
            "text/html": [
              "<!--| quarto-html-table-processing: none -->\n",
              "<table id=\"itables_de78969c_981d_414d_ad41_f2526c169c6b\"><tbody><tr>\n",
              "    <td style=\"vertical-align:middle; text-align:left\">\n",
              "    <a href=https://mwouts.github.io/itables/><svg class=\"main-svg\" xmlns=\"http://www.w3.org/2000/svg\" xmlns:xlink=\"http://www.w3.org/1999/xlink\"\n",
              "width=\"64\" viewBox=\"0 0 500 400\" style=\"font-family: 'Droid Sans', sans-serif;\">\n",
              "    <g style=\"fill:#d9d7fc\">\n",
              "        <path d=\"M100,400H500V357H100Z\" />\n",
              "        <path d=\"M100,300H400V257H100Z\" />\n",
              "        <path d=\"M0,200H400V157H0Z\" />\n",
              "        <path d=\"M100,100H500V57H100Z\" />\n",
              "        <path d=\"M100,350H500V307H100Z\" />\n",
              "        <path d=\"M100,250H400V207H100Z\" />\n",
              "        <path d=\"M0,150H400V107H0Z\" />\n",
              "        <path d=\"M100,50H500V7H100Z\" />\n",
              "    </g>\n",
              "    <g style=\"fill:#1a1366;stroke:#1a1366;\">\n",
              "   <rect x=\"100\" y=\"7\" width=\"400\" height=\"43\">\n",
              "    <animate\n",
              "      attributeName=\"width\"\n",
              "      values=\"0;400;0\"\n",
              "      dur=\"5s\"\n",
              "      repeatCount=\"indefinite\" />\n",
              "      <animate\n",
              "      attributeName=\"x\"\n",
              "      values=\"100;100;500\"\n",
              "      dur=\"5s\"\n",
              "      repeatCount=\"indefinite\" />\n",
              "  </rect>\n",
              "        <rect x=\"0\" y=\"107\" width=\"400\" height=\"43\">\n",
              "    <animate\n",
              "      attributeName=\"width\"\n",
              "      values=\"0;400;0\"\n",
              "      dur=\"3.5s\"\n",
              "      repeatCount=\"indefinite\" />\n",
              "    <animate\n",
              "      attributeName=\"x\"\n",
              "      values=\"0;0;400\"\n",
              "      dur=\"3.5s\"\n",
              "      repeatCount=\"indefinite\" />\n",
              "  </rect>\n",
              "        <rect x=\"100\" y=\"207\" width=\"300\" height=\"43\">\n",
              "    <animate\n",
              "      attributeName=\"width\"\n",
              "      values=\"0;300;0\"\n",
              "      dur=\"3s\"\n",
              "      repeatCount=\"indefinite\" />\n",
              "    <animate\n",
              "      attributeName=\"x\"\n",
              "      values=\"100;100;400\"\n",
              "      dur=\"3s\"\n",
              "      repeatCount=\"indefinite\" />\n",
              "  </rect>\n",
              "        <rect x=\"100\" y=\"307\" width=\"400\" height=\"43\">\n",
              "    <animate\n",
              "      attributeName=\"width\"\n",
              "      values=\"0;400;0\"\n",
              "      dur=\"4s\"\n",
              "      repeatCount=\"indefinite\" />\n",
              "      <animate\n",
              "      attributeName=\"x\"\n",
              "      values=\"100;100;500\"\n",
              "      dur=\"4s\"\n",
              "      repeatCount=\"indefinite\" />\n",
              "  </rect>\n",
              "        <g style=\"fill:transparent;stroke-width:8; stroke-linejoin:round\" rx=\"5\">\n",
              "            <g transform=\"translate(45 50) rotate(-45)\">\n",
              "                <circle r=\"33\" cx=\"0\" cy=\"0\" />\n",
              "                <rect x=\"-8\" y=\"32\" width=\"16\" height=\"30\" />\n",
              "            </g>\n",
              "\n",
              "            <g transform=\"translate(450 152)\">\n",
              "                <polyline points=\"-15,-20 -35,-20 -35,40 25,40 25,20\" />\n",
              "                <rect x=\"-15\" y=\"-40\" width=\"60\" height=\"60\" />\n",
              "            </g>\n",
              "\n",
              "            <g transform=\"translate(50 352)\">\n",
              "                <polygon points=\"-35,-5 0,-40 35,-5\" />\n",
              "                <polygon points=\"-35,10 0,45 35,10\" />\n",
              "            </g>\n",
              "\n",
              "            <g transform=\"translate(75 250)\">\n",
              "                <polyline points=\"-30,30 -60,0 -30,-30\" />\n",
              "                <polyline points=\"0,30 -30,0 0,-30\" />\n",
              "            </g>\n",
              "\n",
              "            <g transform=\"translate(425 250) rotate(180)\">\n",
              "                <polyline points=\"-30,30 -60,0 -30,-30\" />\n",
              "                <polyline points=\"0,30 -30,0 0,-30\" />\n",
              "            </g>\n",
              "        </g>\n",
              "    </g>\n",
              "</svg>\n",
              "</a>\n",
              "    Loading ITables v2.4.0 from the internet...\n",
              "    (need <a href=https://mwouts.github.io/itables/troubleshooting.html>help</a>?)</td>\n",
              "    </tr></tbody></table>\n",
              "<link href=\"https://www.unpkg.com/dt_for_itables@2.3.2/dt_bundle.css\" rel=\"stylesheet\">\n",
              "<script type=\"module\">\n",
              "    import { ITable, jQuery as $ } from 'https://www.unpkg.com/dt_for_itables@2.3.2/dt_bundle.js';\n",
              "\n",
              "    document.querySelectorAll(\"#itables_de78969c_981d_414d_ad41_f2526c169c6b:not(.dataTable)\").forEach(table => {\n",
              "        if (!(table instanceof HTMLTableElement))\n",
              "            return;\n",
              "\n",
              "        let dt_args = {\"layout\": {\"topStart\": \"pageLength\", \"topEnd\": \"search\", \"bottomStart\": \"info\", \"bottomEnd\": \"paging\"}, \"text_in_header_can_be_selected\": true, \"order\": [], \"style\": {\"table-layout\": \"auto\", \"width\": \"auto\", \"margin\": \"auto\", \"caption-side\": \"bottom\"}, \"classes\": [\"display\", \"nowrap\"], \"column_filters\": \"header\", \"table_html\": \"<table><thead><th>year</th><th>name</th><th>athlete_or_team</th><th>sport</th><th>video_timestamp</th></thead></table>\", \"data_json\": \"[[2023, \\\"Spain\\\", \\\"team\\\", \\\"soccer\\\", \\\"00:32\\\"], [2023, \\\"Cristiano Ronaldo\\\", \\\"athlete\\\", \\\"soccer\\\", \\\"00:39\\\"], [2023, \\\"LeBron James\\\", \\\"athlete\\\", \\\"basketball\\\", \\\"00:46\\\"], [2023, \\\"Virat Kohli\\\", \\\"athlete\\\", \\\"cricket\\\", \\\"00:50\\\"], [2023, \\\"Usain Bolt\\\", \\\"athlete\\\", \\\"track and field\\\", \\\"03:05\\\"], [2023, \\\"Tom Brady\\\", \\\"athlete\\\", \\\"football\\\", \\\"03:06\\\"], [2023, \\\"Margaret Court\\\", \\\"athlete\\\", \\\"tennis\\\", \\\"03:07\\\"], [2023, \\\"Serena Williams\\\", \\\"athlete\\\", \\\"tennis\\\", \\\"03:08\\\"], [2023, \\\"Venus Williams\\\", \\\"athlete\\\", \\\"tennis\\\", \\\"03:08\\\"], [2023, \\\"Coco Gauff\\\", \\\"athlete\\\", \\\"tennis\\\", \\\"03:31\\\"], [2022, \\\"Track and Field\\\", \\\"athlete\\\", \\\"track and field\\\", \\\"00:38\\\"], [2022, \\\"Shohei Ohtani\\\", \\\"athlete\\\", \\\"baseball\\\", \\\"01:07\\\"], [2022, \\\"Sydney McLaughlin\\\", \\\"athlete\\\", \\\"track and field\\\", \\\"01:09\\\"], [2022, \\\"Roger Federer\\\", \\\"athlete\\\", \\\"tennis\\\", \\\"01:38\\\"], [2022, \\\"Serena Williams\\\", \\\"athlete\\\", \\\"tennis\\\", \\\"01:40\\\"], [2022, \\\"Chase Elliott\\\", \\\"athlete\\\", \\\"racing\\\", \\\"01:41\\\"], [2022, \\\"Golden State Warriors\\\", \\\"team\\\", \\\"basketball\\\", \\\"01:42\\\"], [2022, \\\"England Women's National Football Team\\\", \\\"team\\\", \\\"soccer\\\", \\\"01:43\\\"], [2021, \\\"Naomi Osaka\\\", \\\"athlete\\\", \\\"tennis\\\", \\\"00:29\\\"], [2021, \\\"Simone Biles\\\", \\\"athlete\\\", \\\"gymnastics\\\", \\\"00:35\\\"], [2021, \\\"Leicester City\\\", \\\"team\\\", \\\"soccer\\\", \\\"00:48\\\"], [2021, \\\"Takarda\\\", \\\"athlete\\\", \\\"soccer\\\", \\\"01:43\\\"], [2021, \\\"Yokoyama\\\", \\\"athlete\\\", \\\"soccer\\\", \\\"01:43\\\"], [2020, \\\"Kobe Bryant\\\", \\\"athlete\\\", \\\"basketball\\\", \\\"01:05\\\"], [2020, \\\"LeBron James\\\", \\\"athlete\\\", \\\"basketball\\\", \\\"02:33\\\"], [2020, \\\"Maya Gabeira\\\", \\\"athlete\\\", \\\"surfing\\\", \\\"02:40\\\"], [2020, \\\"Naomi Osaka\\\", \\\"athlete\\\", \\\"tennis\\\", \\\"02:42\\\"], [2019, \\\"Jackie Robinson\\\", \\\"athlete\\\", \\\"baseball\\\", \\\"00:06\\\"], [2019, \\\"Eliud Kipchoge\\\", \\\"athlete\\\", \\\"running\\\", \\\"00:26\\\"], [2019, \\\"Dylan Alcott\\\", \\\"athlete\\\", \\\"wheelchair tennis\\\", \\\"01:22\\\"], [2019, \\\"Simone Biles\\\", \\\"athlete\\\", \\\"gymnastics\\\", \\\"01:25\\\"], [2019, \\\"St. Louis Blues\\\", \\\"team\\\", \\\"hockey\\\", \\\"01:29\\\"], [2019, \\\"South Africa\\\", \\\"team\\\", \\\"rugby\\\", \\\"01:31\\\"], [2019, \\\"England\\\", \\\"team\\\", \\\"cricket\\\", \\\"01:50\\\"], [2018, \\\"Soccer Team\\\", \\\"team\\\", \\\"soccer\\\", \\\"00:19\\\"], [2018, \\\"Sachia Vickery\\\", \\\"athlete\\\", \\\"tennis\\\", \\\"00:33\\\"], [2018, \\\"Mirai Nagasu\\\", \\\"athlete\\\", \\\"figure skating\\\", \\\"00:37\\\"], [2018, \\\"Houston Astros\\\", \\\"team\\\", \\\"baseball\\\", \\\"00:53\\\"], [2018, \\\"LA Galaxy\\\", \\\"team\\\", \\\"soccer\\\", \\\"00:46\\\"], [2018, \\\"Football Player\\\", \\\"athlete\\\", \\\"football\\\", \\\"01:10\\\"], [2018, \\\"LeBron James\\\", \\\"athlete\\\", \\\"basketball\\\", \\\"01:12\\\"], [2018, \\\"Washington Capitals\\\", \\\"team\\\", \\\"hockey\\\", \\\"01:31\\\"], [2018, \\\"Naomi Osaka\\\", \\\"athlete\\\", \\\"tennis\\\", \\\"01:33\\\"], [2018, \\\"Chloe Kim\\\", \\\"athlete\\\", \\\"snowboarding\\\", \\\"01:34\\\"], [2017, \\\"Vegas Golden Knights\\\", \\\"team\\\", \\\"hockey\\\", \\\"00:37\\\"], [2017, \\\"Serena Williams\\\", \\\"athlete\\\", \\\"tennis\\\", \\\"01:25\\\"], [2017, \\\"Carlos Correa\\\", \\\"athlete\\\", \\\"baseball\\\", \\\"01:37\\\"], [2016, \\\"Beach Volleyball Athlete\\\", \\\"athlete\\\", \\\"Beach Volleyball\\\", \\\"00:56\\\"], [2016, \\\"Track Athlete\\\", \\\"athlete\\\", \\\"Track\\\", \\\"00:57\\\"], [2016, \\\"Simone Biles\\\", \\\"athlete\\\", \\\"Gymnastics\\\", \\\"00:58\\\"], [2016, \\\"Baseball Player\\\", \\\"athlete\\\", \\\"Baseball\\\", \\\"01:02\\\"], [2016, \\\"Chicago Cubs\\\", \\\"team\\\", \\\"Baseball\\\", \\\"01:04\\\"], [2016, \\\"Cleveland Cavaliers\\\", \\\"team\\\", \\\"Basketball\\\", \\\"01:06\\\"], [2016, \\\"Leicester City\\\", \\\"team\\\", \\\"Soccer\\\", \\\"01:40\\\"], [2016, \\\"Muhammad Ali\\\", \\\"athlete\\\", \\\"Boxing\\\", \\\"01:30\\\"], [2015, \\\"Stuart Scott\\\", \\\"athlete\\\", \\\"sportscaster\\\", \\\"00:31\\\"], [2015, \\\"US Women's National Team\\\", \\\"team\\\", \\\"soccer\\\", \\\"00:46\\\"], [2015, \\\"Holly Holm\\\", \\\"athlete\\\", \\\"MMA\\\", \\\"01:38\\\"], [2015, \\\"Stephen Curry\\\", \\\"athlete\\\", \\\"basketball\\\", \\\"01:41\\\"], [2015, \\\"Special Olympics\\\", \\\"team\\\", \\\"Olympics\\\", \\\"01:49\\\"], [2014, \\\"Mario Gotze\\\", \\\"athlete\\\", \\\"soccer\\\", \\\"00:33\\\"], [2014, \\\"Unknown Snowboarder\\\", \\\"athlete\\\", \\\"snowboarding\\\", \\\"00:34\\\"], [2014, \\\"Unknown Bobsled Team\\\", \\\"team\\\", \\\"bobsled\\\", \\\"00:35\\\"], [2014, \\\"Usain Bolt\\\", \\\"athlete\\\", \\\"track and field\\\", \\\"00:36\\\"], [2013, \\\"London Marathon\\\", \\\"team\\\", \\\"Marathon\\\", \\\"00:26\\\"], [2013, \\\"David Beckham\\\", \\\"athlete\\\", \\\"Soccer\\\", \\\"00:48\\\"], [2013, \\\"Arjen Robben\\\", \\\"athlete\\\", \\\"Soccer\\\", \\\"01:15\\\"], [2012, \\\"Felix Baumgartner\\\", \\\"athlete\\\", \\\"skydiving\\\", \\\"00:06\\\"], [2012, \\\"London 2012\\\", \\\"team\\\", \\\"Olympics\\\", \\\"01:15\\\"], [2012, \\\"Michael Phelps\\\", \\\"athlete\\\", \\\"swimming\\\", \\\"01:34\\\"], [2012, \\\"Spain\\\", \\\"team\\\", \\\"soccer\\\", \\\"01:38\\\"], [2012, \\\"Neil Armstrong\\\", \\\"athlete\\\", \\\"astronaut\\\", \\\"01:46\\\"], [2012, \\\"Sally Ride\\\", \\\"athlete\\\", \\\"astronaut\\\", \\\"01:48\\\"], [2012, \\\"Jeremy Lin\\\", \\\"athlete\\\", \\\"basketball\\\", \\\"02:15\\\"], [2011, \\\"Joe Frazier\\\", \\\"athlete\\\", \\\"boxing\\\", \\\"01:47\\\"], [2011, \\\"Japan Women's National Team\\\", \\\"team\\\", \\\"soccer\\\", \\\"02:18\\\"], [2010, \\\"Graeme McDowell\\\", \\\"athlete\\\", \\\"golf\\\", \\\"01:53\\\"], [2010, \\\"John Isner &amp; Nicolas Mahut\\\", \\\"team\\\", \\\"tennis\\\", \\\"01:55\\\"], [2010, \\\"San Francisco Giants\\\", \\\"team\\\", \\\"baseball\\\", \\\"01:57\\\"], [2010, \\\"Sidney Crosby\\\", \\\"athlete\\\", \\\"hockey\\\", \\\"01:59\\\"], [2010, \\\"Kim Yu-Na\\\", \\\"athlete\\\", \\\"figure skating\\\", \\\"02:00\\\"]]\"};\n",
              "        new ITable(table, dt_args);\n",
              "    });\n",
              "</script>\n"
            ]
          },
          "metadata": {}
        }
      ],
      "source": [
        "# Add structured outputs by year back to original table, show full extraction results\n",
        "year_in_search_responses = year_in_search_yt_links.copy()\n",
        "\n",
        "year_in_search_responses[\"gemini_response\"] = [\n",
        "    json.dumps(response) for response in multiple_video_extraction_responses\n",
        "]\n",
        "\n",
        "\n",
        "def extract_result_df_from_gemini_response(year, gemini_response):\n",
        "    extract_response_text = json.loads(gemini_response)[\"candidates\"][0][\"content\"][\n",
        "        \"parts\"\n",
        "    ][0][\"text\"]\n",
        "\n",
        "    extract_result_df = pd.DataFrame(json.loads(extract_response_text))\n",
        "\n",
        "    extract_result_df[\"year\"] = year\n",
        "\n",
        "    return extract_result_df\n",
        "\n",
        "\n",
        "year_in_search_responses[\"extract_result_df\"] = year_in_search_responses.apply(\n",
        "    lambda row: extract_result_df_from_gemini_response(\n",
        "        row[\"year\"], row[\"gemini_response\"]\n",
        "    ),\n",
        "    axis=1,\n",
        ")\n",
        "\n",
        "all_year_in_search_extractions = pd.concat(\n",
        "    year_in_search_responses[\"extract_result_df\"].tolist(), ignore_index=True\n",
        ")[[\"year\", \"name\", \"athlete_or_team\", \"sport\", \"video_timestamp\"]]\n",
        "\n",
        "show(all_year_in_search_extractions)"
      ]
    },
    {
      "cell_type": "markdown",
      "metadata": {
        "id": "b17e9b0af4e4"
      },
      "source": [
        "Finally, we can count the number of years in which each athlete or team appeared in these videos, and return results for those who appeared more than once."
      ]
    },
    {
      "cell_type": "code",
      "execution_count": 21,
      "metadata": {
        "id": "c0cd6041bce7",
        "outputId": "b9e75c50-890c-46a9-c9cb-096f75021c65",
        "colab": {
          "base_uri": "https://localhost:8080/",
          "height": 354
        }
      },
      "outputs": [
        {
          "output_type": "stream",
          "name": "stderr",
          "text": [
            "<ipython-input-21-d810eb97520f>:10: DeprecationWarning: DataFrameGroupBy.apply operated on the grouping columns. This behavior is deprecated, and in a future version of pandas the grouping columns will be excluded from the operation. Either pass `include_groups=False` to exclude the groupings or explicitly select the grouping columns after groupby to silence this warning.\n",
            "  .apply(\n"
          ]
        },
        {
          "output_type": "display_data",
          "data": {
            "text/plain": [
              "<IPython.core.display.Markdown object>"
            ],
            "text/markdown": "<b>Athletes/Teams Appearing in Multiple Year in Search Videos<b>"
          },
          "metadata": {}
        },
        {
          "output_type": "display_data",
          "data": {
            "text/plain": [
              "              name athlete_or_team            sport  num_years\n",
              "0     LEBRON JAMES         athlete       basketball          3\n",
              "1      NAOMI OSAKA         athlete           tennis          3\n",
              "2  SERENA WILLIAMS         athlete           tennis          3\n",
              "3     SIMONE BILES         athlete       gymnastics          3\n",
              "4   LEICESTER CITY            team           soccer          2\n",
              "5            SPAIN            team           soccer          2\n",
              "6       USAIN BOLT         athlete  track and field          2"
            ],
            "text/html": [
              "\n",
              "  <div id=\"df-f301ae0d-4b48-4b79-a8d4-0e41f467b28a\" class=\"colab-df-container\">\n",
              "    <div>\n",
              "<style scoped>\n",
              "    .dataframe tbody tr th:only-of-type {\n",
              "        vertical-align: middle;\n",
              "    }\n",
              "\n",
              "    .dataframe tbody tr th {\n",
              "        vertical-align: top;\n",
              "    }\n",
              "\n",
              "    .dataframe thead th {\n",
              "        text-align: right;\n",
              "    }\n",
              "</style>\n",
              "<table border=\"1\" class=\"dataframe\">\n",
              "  <thead>\n",
              "    <tr style=\"text-align: right;\">\n",
              "      <th></th>\n",
              "      <th>name</th>\n",
              "      <th>athlete_or_team</th>\n",
              "      <th>sport</th>\n",
              "      <th>num_years</th>\n",
              "    </tr>\n",
              "  </thead>\n",
              "  <tbody>\n",
              "    <tr>\n",
              "      <th>0</th>\n",
              "      <td>LEBRON JAMES</td>\n",
              "      <td>athlete</td>\n",
              "      <td>basketball</td>\n",
              "      <td>3</td>\n",
              "    </tr>\n",
              "    <tr>\n",
              "      <th>1</th>\n",
              "      <td>NAOMI OSAKA</td>\n",
              "      <td>athlete</td>\n",
              "      <td>tennis</td>\n",
              "      <td>3</td>\n",
              "    </tr>\n",
              "    <tr>\n",
              "      <th>2</th>\n",
              "      <td>SERENA WILLIAMS</td>\n",
              "      <td>athlete</td>\n",
              "      <td>tennis</td>\n",
              "      <td>3</td>\n",
              "    </tr>\n",
              "    <tr>\n",
              "      <th>3</th>\n",
              "      <td>SIMONE BILES</td>\n",
              "      <td>athlete</td>\n",
              "      <td>gymnastics</td>\n",
              "      <td>3</td>\n",
              "    </tr>\n",
              "    <tr>\n",
              "      <th>4</th>\n",
              "      <td>LEICESTER CITY</td>\n",
              "      <td>team</td>\n",
              "      <td>soccer</td>\n",
              "      <td>2</td>\n",
              "    </tr>\n",
              "    <tr>\n",
              "      <th>5</th>\n",
              "      <td>SPAIN</td>\n",
              "      <td>team</td>\n",
              "      <td>soccer</td>\n",
              "      <td>2</td>\n",
              "    </tr>\n",
              "    <tr>\n",
              "      <th>6</th>\n",
              "      <td>USAIN BOLT</td>\n",
              "      <td>athlete</td>\n",
              "      <td>track and field</td>\n",
              "      <td>2</td>\n",
              "    </tr>\n",
              "  </tbody>\n",
              "</table>\n",
              "</div>\n",
              "    <div class=\"colab-df-buttons\">\n",
              "\n",
              "  <div class=\"colab-df-container\">\n",
              "    <button class=\"colab-df-convert\" onclick=\"convertToInteractive('df-f301ae0d-4b48-4b79-a8d4-0e41f467b28a')\"\n",
              "            title=\"Convert this dataframe to an interactive table.\"\n",
              "            style=\"display:none;\">\n",
              "\n",
              "  <svg xmlns=\"http://www.w3.org/2000/svg\" height=\"24px\" viewBox=\"0 -960 960 960\">\n",
              "    <path d=\"M120-120v-720h720v720H120Zm60-500h600v-160H180v160Zm220 220h160v-160H400v160Zm0 220h160v-160H400v160ZM180-400h160v-160H180v160Zm440 0h160v-160H620v160ZM180-180h160v-160H180v160Zm440 0h160v-160H620v160Z\"/>\n",
              "  </svg>\n",
              "    </button>\n",
              "\n",
              "  <style>\n",
              "    .colab-df-container {\n",
              "      display:flex;\n",
              "      gap: 12px;\n",
              "    }\n",
              "\n",
              "    .colab-df-convert {\n",
              "      background-color: #E8F0FE;\n",
              "      border: none;\n",
              "      border-radius: 50%;\n",
              "      cursor: pointer;\n",
              "      display: none;\n",
              "      fill: #1967D2;\n",
              "      height: 32px;\n",
              "      padding: 0 0 0 0;\n",
              "      width: 32px;\n",
              "    }\n",
              "\n",
              "    .colab-df-convert:hover {\n",
              "      background-color: #E2EBFA;\n",
              "      box-shadow: 0px 1px 2px rgba(60, 64, 67, 0.3), 0px 1px 3px 1px rgba(60, 64, 67, 0.15);\n",
              "      fill: #174EA6;\n",
              "    }\n",
              "\n",
              "    .colab-df-buttons div {\n",
              "      margin-bottom: 4px;\n",
              "    }\n",
              "\n",
              "    [theme=dark] .colab-df-convert {\n",
              "      background-color: #3B4455;\n",
              "      fill: #D2E3FC;\n",
              "    }\n",
              "\n",
              "    [theme=dark] .colab-df-convert:hover {\n",
              "      background-color: #434B5C;\n",
              "      box-shadow: 0px 1px 3px 1px rgba(0, 0, 0, 0.15);\n",
              "      filter: drop-shadow(0px 1px 2px rgba(0, 0, 0, 0.3));\n",
              "      fill: #FFFFFF;\n",
              "    }\n",
              "  </style>\n",
              "\n",
              "    <script>\n",
              "      const buttonEl =\n",
              "        document.querySelector('#df-f301ae0d-4b48-4b79-a8d4-0e41f467b28a button.colab-df-convert');\n",
              "      buttonEl.style.display =\n",
              "        google.colab.kernel.accessAllowed ? 'block' : 'none';\n",
              "\n",
              "      async function convertToInteractive(key) {\n",
              "        const element = document.querySelector('#df-f301ae0d-4b48-4b79-a8d4-0e41f467b28a');\n",
              "        const dataTable =\n",
              "          await google.colab.kernel.invokeFunction('convertToInteractive',\n",
              "                                                    [key], {});\n",
              "        if (!dataTable) return;\n",
              "\n",
              "        const docLinkHtml = 'Like what you see? Visit the ' +\n",
              "          '<a target=\"_blank\" href=https://colab.research.google.com/notebooks/data_table.ipynb>data table notebook</a>'\n",
              "          + ' to learn more about interactive tables.';\n",
              "        element.innerHTML = '';\n",
              "        dataTable['output_type'] = 'display_data';\n",
              "        await google.colab.output.renderOutput(dataTable, element);\n",
              "        const docLink = document.createElement('div');\n",
              "        docLink.innerHTML = docLinkHtml;\n",
              "        element.appendChild(docLink);\n",
              "      }\n",
              "    </script>\n",
              "  </div>\n",
              "\n",
              "\n",
              "    <div id=\"df-3d2d1565-af2a-4110-9596-4a5af489b662\">\n",
              "      <button class=\"colab-df-quickchart\" onclick=\"quickchart('df-3d2d1565-af2a-4110-9596-4a5af489b662')\"\n",
              "                title=\"Suggest charts\"\n",
              "                style=\"display:none;\">\n",
              "\n",
              "<svg xmlns=\"http://www.w3.org/2000/svg\" height=\"24px\"viewBox=\"0 0 24 24\"\n",
              "     width=\"24px\">\n",
              "    <g>\n",
              "        <path d=\"M19 3H5c-1.1 0-2 .9-2 2v14c0 1.1.9 2 2 2h14c1.1 0 2-.9 2-2V5c0-1.1-.9-2-2-2zM9 17H7v-7h2v7zm4 0h-2V7h2v10zm4 0h-2v-4h2v4z\"/>\n",
              "    </g>\n",
              "</svg>\n",
              "      </button>\n",
              "\n",
              "<style>\n",
              "  .colab-df-quickchart {\n",
              "      --bg-color: #E8F0FE;\n",
              "      --fill-color: #1967D2;\n",
              "      --hover-bg-color: #E2EBFA;\n",
              "      --hover-fill-color: #174EA6;\n",
              "      --disabled-fill-color: #AAA;\n",
              "      --disabled-bg-color: #DDD;\n",
              "  }\n",
              "\n",
              "  [theme=dark] .colab-df-quickchart {\n",
              "      --bg-color: #3B4455;\n",
              "      --fill-color: #D2E3FC;\n",
              "      --hover-bg-color: #434B5C;\n",
              "      --hover-fill-color: #FFFFFF;\n",
              "      --disabled-bg-color: #3B4455;\n",
              "      --disabled-fill-color: #666;\n",
              "  }\n",
              "\n",
              "  .colab-df-quickchart {\n",
              "    background-color: var(--bg-color);\n",
              "    border: none;\n",
              "    border-radius: 50%;\n",
              "    cursor: pointer;\n",
              "    display: none;\n",
              "    fill: var(--fill-color);\n",
              "    height: 32px;\n",
              "    padding: 0;\n",
              "    width: 32px;\n",
              "  }\n",
              "\n",
              "  .colab-df-quickchart:hover {\n",
              "    background-color: var(--hover-bg-color);\n",
              "    box-shadow: 0 1px 2px rgba(60, 64, 67, 0.3), 0 1px 3px 1px rgba(60, 64, 67, 0.15);\n",
              "    fill: var(--button-hover-fill-color);\n",
              "  }\n",
              "\n",
              "  .colab-df-quickchart-complete:disabled,\n",
              "  .colab-df-quickchart-complete:disabled:hover {\n",
              "    background-color: var(--disabled-bg-color);\n",
              "    fill: var(--disabled-fill-color);\n",
              "    box-shadow: none;\n",
              "  }\n",
              "\n",
              "  .colab-df-spinner {\n",
              "    border: 2px solid var(--fill-color);\n",
              "    border-color: transparent;\n",
              "    border-bottom-color: var(--fill-color);\n",
              "    animation:\n",
              "      spin 1s steps(1) infinite;\n",
              "  }\n",
              "\n",
              "  @keyframes spin {\n",
              "    0% {\n",
              "      border-color: transparent;\n",
              "      border-bottom-color: var(--fill-color);\n",
              "      border-left-color: var(--fill-color);\n",
              "    }\n",
              "    20% {\n",
              "      border-color: transparent;\n",
              "      border-left-color: var(--fill-color);\n",
              "      border-top-color: var(--fill-color);\n",
              "    }\n",
              "    30% {\n",
              "      border-color: transparent;\n",
              "      border-left-color: var(--fill-color);\n",
              "      border-top-color: var(--fill-color);\n",
              "      border-right-color: var(--fill-color);\n",
              "    }\n",
              "    40% {\n",
              "      border-color: transparent;\n",
              "      border-right-color: var(--fill-color);\n",
              "      border-top-color: var(--fill-color);\n",
              "    }\n",
              "    60% {\n",
              "      border-color: transparent;\n",
              "      border-right-color: var(--fill-color);\n",
              "    }\n",
              "    80% {\n",
              "      border-color: transparent;\n",
              "      border-right-color: var(--fill-color);\n",
              "      border-bottom-color: var(--fill-color);\n",
              "    }\n",
              "    90% {\n",
              "      border-color: transparent;\n",
              "      border-bottom-color: var(--fill-color);\n",
              "    }\n",
              "  }\n",
              "</style>\n",
              "\n",
              "      <script>\n",
              "        async function quickchart(key) {\n",
              "          const quickchartButtonEl =\n",
              "            document.querySelector('#' + key + ' button');\n",
              "          quickchartButtonEl.disabled = true;  // To prevent multiple clicks.\n",
              "          quickchartButtonEl.classList.add('colab-df-spinner');\n",
              "          try {\n",
              "            const charts = await google.colab.kernel.invokeFunction(\n",
              "                'suggestCharts', [key], {});\n",
              "          } catch (error) {\n",
              "            console.error('Error during call to suggestCharts:', error);\n",
              "          }\n",
              "          quickchartButtonEl.classList.remove('colab-df-spinner');\n",
              "          quickchartButtonEl.classList.add('colab-df-quickchart-complete');\n",
              "        }\n",
              "        (() => {\n",
              "          let quickchartButtonEl =\n",
              "            document.querySelector('#df-3d2d1565-af2a-4110-9596-4a5af489b662 button');\n",
              "          quickchartButtonEl.style.display =\n",
              "            google.colab.kernel.accessAllowed ? 'block' : 'none';\n",
              "        })();\n",
              "      </script>\n",
              "    </div>\n",
              "\n",
              "  <div id=\"id_1ee3add1-4bc8-4b90-84d5-27505bdb622b\">\n",
              "    <style>\n",
              "      .colab-df-generate {\n",
              "        background-color: #E8F0FE;\n",
              "        border: none;\n",
              "        border-radius: 50%;\n",
              "        cursor: pointer;\n",
              "        display: none;\n",
              "        fill: #1967D2;\n",
              "        height: 32px;\n",
              "        padding: 0 0 0 0;\n",
              "        width: 32px;\n",
              "      }\n",
              "\n",
              "      .colab-df-generate:hover {\n",
              "        background-color: #E2EBFA;\n",
              "        box-shadow: 0px 1px 2px rgba(60, 64, 67, 0.3), 0px 1px 3px 1px rgba(60, 64, 67, 0.15);\n",
              "        fill: #174EA6;\n",
              "      }\n",
              "\n",
              "      [theme=dark] .colab-df-generate {\n",
              "        background-color: #3B4455;\n",
              "        fill: #D2E3FC;\n",
              "      }\n",
              "\n",
              "      [theme=dark] .colab-df-generate:hover {\n",
              "        background-color: #434B5C;\n",
              "        box-shadow: 0px 1px 3px 1px rgba(0, 0, 0, 0.15);\n",
              "        filter: drop-shadow(0px 1px 2px rgba(0, 0, 0, 0.3));\n",
              "        fill: #FFFFFF;\n",
              "      }\n",
              "    </style>\n",
              "    <button class=\"colab-df-generate\" onclick=\"generateWithVariable('multiple_year_in_search_app')\"\n",
              "            title=\"Generate code using this dataframe.\"\n",
              "            style=\"display:none;\">\n",
              "\n",
              "  <svg xmlns=\"http://www.w3.org/2000/svg\" height=\"24px\"viewBox=\"0 0 24 24\"\n",
              "       width=\"24px\">\n",
              "    <path d=\"M7,19H8.4L18.45,9,17,7.55,7,17.6ZM5,21V16.75L18.45,3.32a2,2,0,0,1,2.83,0l1.4,1.43a1.91,1.91,0,0,1,.58,1.4,1.91,1.91,0,0,1-.58,1.4L9.25,21ZM18.45,9,17,7.55Zm-12,3A5.31,5.31,0,0,0,4.9,8.1,5.31,5.31,0,0,0,1,6.5,5.31,5.31,0,0,0,4.9,4.9,5.31,5.31,0,0,0,6.5,1,5.31,5.31,0,0,0,8.1,4.9,5.31,5.31,0,0,0,12,6.5,5.46,5.46,0,0,0,6.5,12Z\"/>\n",
              "  </svg>\n",
              "    </button>\n",
              "    <script>\n",
              "      (() => {\n",
              "      const buttonEl =\n",
              "        document.querySelector('#id_1ee3add1-4bc8-4b90-84d5-27505bdb622b button.colab-df-generate');\n",
              "      buttonEl.style.display =\n",
              "        google.colab.kernel.accessAllowed ? 'block' : 'none';\n",
              "\n",
              "      buttonEl.onclick = () => {\n",
              "        google.colab.notebook.generateWithVariable('multiple_year_in_search_app');\n",
              "      }\n",
              "      })();\n",
              "    </script>\n",
              "  </div>\n",
              "\n",
              "    </div>\n",
              "  </div>\n"
            ],
            "application/vnd.google.colaboratory.intrinsic+json": {
              "type": "dataframe",
              "variable_name": "multiple_year_in_search_app",
              "summary": "{\n  \"name\": \"multiple_year_in_search_app\",\n  \"rows\": 7,\n  \"fields\": [\n    {\n      \"column\": \"name\",\n      \"properties\": {\n        \"dtype\": \"string\",\n        \"num_unique_values\": 7,\n        \"samples\": [\n          \"LEBRON JAMES\",\n          \"NAOMI OSAKA\",\n          \"SPAIN\"\n        ],\n        \"semantic_type\": \"\",\n        \"description\": \"\"\n      }\n    },\n    {\n      \"column\": \"athlete_or_team\",\n      \"properties\": {\n        \"dtype\": \"category\",\n        \"num_unique_values\": 2,\n        \"samples\": [\n          \"team\",\n          \"athlete\"\n        ],\n        \"semantic_type\": \"\",\n        \"description\": \"\"\n      }\n    },\n    {\n      \"column\": \"sport\",\n      \"properties\": {\n        \"dtype\": \"string\",\n        \"num_unique_values\": 5,\n        \"samples\": [\n          \"tennis\",\n          \"track and field\"\n        ],\n        \"semantic_type\": \"\",\n        \"description\": \"\"\n      }\n    },\n    {\n      \"column\": \"num_years\",\n      \"properties\": {\n        \"dtype\": \"number\",\n        \"std\": 0,\n        \"min\": 2,\n        \"max\": 3,\n        \"num_unique_values\": 2,\n        \"samples\": [\n          2,\n          3\n        ],\n        \"semantic_type\": \"\",\n        \"description\": \"\"\n      }\n    }\n  ]\n}"
            }
          },
          "metadata": {}
        }
      ],
      "source": [
        "# Analyze results to show athletes/teams showing up most often in Year in Search videos\n",
        "multiple_year_in_search_app = (\n",
        "    all_year_in_search_extractions.assign(\n",
        "        # Convert 'name' to uppercase to handle e.g. \"LeBron\" vs \"Lebron\"\n",
        "        name=all_year_in_search_extractions[\"name\"].str.upper(),\n",
        "        # Convert 'athlete_or_team' to lowercase for consistency\n",
        "        athlete_or_team=all_year_in_search_extractions[\"athlete_or_team\"].str.lower(),\n",
        "    )\n",
        "    .groupby([\"name\", \"athlete_or_team\"])\n",
        "    .apply(\n",
        "        lambda x: pd.Series(\n",
        "            {\n",
        "                # Aggregate 'sport' across type and name (handling different cases)\n",
        "                \"sport\": \", \".join(sorted(x[\"sport\"].str.lower().unique())),\n",
        "                # Count # of diff years in which each athlete/team appears in video\n",
        "                \"num_years\": x[\"year\"].nunique(),\n",
        "            }\n",
        "        )\n",
        "    )\n",
        "    .reset_index()\n",
        "    .\n",
        "    # Filter to only those appearing multiple times\n",
        "    query(\"num_years >= 2\")\n",
        "    .sort_values([\"num_years\", \"name\"], ascending=[False, True])\n",
        "    .reset_index(drop=True)\n",
        ")\n",
        "\n",
        "# Display results\n",
        "display(Markdown(\"<b>Athletes/Teams Appearing in Multiple Year in Search Videos<b>\"))\n",
        "display(multiple_year_in_search_app)"
      ]
    },
    {
      "cell_type": "code",
      "source": [],
      "metadata": {
        "id": "Ipn19rqOjnFk"
      },
      "execution_count": null,
      "outputs": []
    }
  ],
  "metadata": {
    "colab": {
      "name": "youtube_video_analysis.ipynb",
      "toc_visible": true,
      "provenance": []
    },
    "kernelspec": {
      "display_name": "Python 3",
      "name": "python3"
    }
  },
  "nbformat": 4,
  "nbformat_minor": 0
}